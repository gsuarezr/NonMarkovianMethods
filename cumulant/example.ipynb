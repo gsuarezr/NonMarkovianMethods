{
 "cells": [
  {
   "cell_type": "code",
   "execution_count": 1,
   "metadata": {},
   "outputs": [
    {
     "name": "stderr",
     "output_type": "stream",
     "text": [
      "/home/mcditoos/anaconda3/envs/cumulant/lib/python3.12/site-packages/qutip/__init__.py:110: UserWarning: matplotlib not found: Graphics will not work.\n",
      "  warnings.warn(\"matplotlib not found: Graphics will not work.\")\n"
     ]
    }
   ],
   "source": [
    "from cumulant import csolve"
   ]
  },
  {
   "cell_type": "code",
   "execution_count": 2,
   "metadata": {},
   "outputs": [],
   "source": [
    "import numpy as np"
   ]
  },
  {
   "cell_type": "code",
   "execution_count": 3,
   "metadata": {},
   "outputs": [],
   "source": [
    "w0 = 1\n",
    "Deltaw = 1e-2*w0\n",
    "alpha = 0.0159155*w0\n",
    "gamma = 5*w0\n",
    "T = 1*w0\n",
    "tf = 400\n",
    "Hsys = np.array([[w0+(Deltaw/2), 0, 0], [0, w0-(Deltaw/2), 0], [0, 0, 0]])\n",
    "Q = np.array([[0,0,1],[0,0,1],[1,1,0]])"
   ]
  },
  {
   "cell_type": "code",
   "execution_count": 4,
   "metadata": {},
   "outputs": [],
   "source": [
    "cc = csolve(Hsys,np.linspace(0,tf,5000) , 1e-6, alpha, gamma, T, Q, \"ohmic\")"
   ]
  },
  {
   "cell_type": "code",
   "execution_count": 5,
   "metadata": {},
   "outputs": [
    {
     "data": {
      "text/plain": [
       "numpy.ndarray"
      ]
     },
     "execution_count": 5,
     "metadata": {},
     "output_type": "execute_result"
    }
   ],
   "source": [
    "type(Hsys)"
   ]
  },
  {
   "cell_type": "code",
   "execution_count": 8,
   "metadata": {},
   "outputs": [
    {
     "data": {
      "text/plain": [
       "array([[1.005, 0.   , 0.   ],\n",
       "       [0.   , 0.995, 0.   ],\n",
       "       [0.   , 0.   , 0.   ]])"
      ]
     },
     "execution_count": 8,
     "metadata": {},
     "output_type": "execute_result"
    }
   ],
   "source": [
    "Hsys"
   ]
  },
  {
   "cell_type": "code",
   "execution_count": null,
   "metadata": {},
   "outputs": [],
   "source": []
  },
  {
   "cell_type": "code",
   "execution_count": 6,
   "metadata": {},
   "outputs": [],
   "source": [
    "rho0=np.eye(3)/3"
   ]
  },
  {
   "cell_type": "code",
   "execution_count": 7,
   "metadata": {},
   "outputs": [
    {
     "ename": "AttributeError",
     "evalue": "'numpy.ndarray' object has no attribute 'dag'",
     "output_type": "error",
     "traceback": [
      "\u001b[0;31m---------------------------------------------------------------------------\u001b[0m",
      "\u001b[0;31mAttributeError\u001b[0m                            Traceback (most recent call last)",
      "Cell \u001b[0;32mIn[7], line 1\u001b[0m\n\u001b[0;32m----> 1\u001b[0m \u001b[43mcc\u001b[49m\u001b[38;5;241;43m.\u001b[39;49m\u001b[43mevolution\u001b[49m\u001b[43m(\u001b[49m\u001b[43mrho0\u001b[49m\u001b[43m)\u001b[49m\n",
      "File \u001b[0;32m~/cumulant.py/cumulant/cumulant.py:170\u001b[0m, in \u001b[0;36mcsolve.evolution\u001b[0;34m(self, rho0, regularized)\u001b[0m\n\u001b[1;32m    169\u001b[0m \u001b[38;5;28;01mdef\u001b[39;00m \u001b[38;5;21mevolution\u001b[39m(\u001b[38;5;28mself\u001b[39m, rho0, regularized\u001b[38;5;241m=\u001b[39m\u001b[38;5;28;01mFalse\u001b[39;00m):\n\u001b[0;32m--> 170\u001b[0m     \u001b[38;5;28;43mself\u001b[39;49m\u001b[38;5;241;43m.\u001b[39;49m\u001b[43mgenerator\u001b[49m\u001b[43m(\u001b[49m\u001b[43mregularized\u001b[49m\u001b[43m)\u001b[49m\n\u001b[1;32m    171\u001b[0m     \u001b[38;5;28;01mreturn\u001b[39;00m [i\u001b[38;5;241m.\u001b[39mexpm()(rho0) \u001b[38;5;28;01mfor\u001b[39;00m i \u001b[38;5;129;01min\u001b[39;00m tqdm(\u001b[38;5;28mself\u001b[39m\u001b[38;5;241m.\u001b[39mgenerators,\n\u001b[1;32m    172\u001b[0m             desc\u001b[38;5;241m=\u001b[39m\u001b[38;5;124m'\u001b[39m\u001b[38;5;124mComputing Exponential of Generators . . . .\u001b[39m\u001b[38;5;124m'\u001b[39m)]\n",
      "File \u001b[0;32m~/cumulant.py/cumulant/cumulant.py:104\u001b[0m, in \u001b[0;36mcsolve.generator\u001b[0;34m(self, regularized)\u001b[0m\n\u001b[1;32m     99\u001b[0m Deltajk \u001b[38;5;241m=\u001b[39m evals[k] \u001b[38;5;241m-\u001b[39m evals[j]\n\u001b[1;32m    100\u001b[0m ws\u001b[38;5;241m.\u001b[39mappend(Deltajk)\n\u001b[1;32m    101\u001b[0m collapse_list\u001b[38;5;241m.\u001b[39mappend(\n\u001b[1;32m    102\u001b[0m     (\n\u001b[1;32m    103\u001b[0m         all_state[j]\n\u001b[0;32m--> 104\u001b[0m         \u001b[38;5;241m*\u001b[39m \u001b[43mall_state\u001b[49m\u001b[43m[\u001b[49m\u001b[43mj\u001b[49m\u001b[43m]\u001b[49m\u001b[38;5;241;43m.\u001b[39;49m\u001b[43mdag\u001b[49m()\n\u001b[1;32m    105\u001b[0m         \u001b[38;5;241m*\u001b[39m \u001b[38;5;28mself\u001b[39m\u001b[38;5;241m.\u001b[39mQ\n\u001b[1;32m    106\u001b[0m         \u001b[38;5;241m*\u001b[39m all_state[k]\n\u001b[1;32m    107\u001b[0m         \u001b[38;5;241m*\u001b[39m all_state[k]\u001b[38;5;241m.\u001b[39mdag()\n\u001b[1;32m    108\u001b[0m     )\n\u001b[1;32m    109\u001b[0m )  \u001b[38;5;66;03m# emission\u001b[39;00m\n\u001b[1;32m    110\u001b[0m ws\u001b[38;5;241m.\u001b[39mappend(\u001b[38;5;241m-\u001b[39mDeltajk)\n\u001b[1;32m    111\u001b[0m collapse_list\u001b[38;5;241m.\u001b[39mappend(\n\u001b[1;32m    112\u001b[0m     (\n\u001b[1;32m    113\u001b[0m         all_state[k]\n\u001b[0;32m   (...)\u001b[0m\n\u001b[1;32m    118\u001b[0m     )\n\u001b[1;32m    119\u001b[0m )  \u001b[38;5;66;03m# absorption\u001b[39;00m\n",
      "\u001b[0;31mAttributeError\u001b[0m: 'numpy.ndarray' object has no attribute 'dag'"
     ]
    }
   ],
   "source": [
    "cc.evolution(rho0)"
   ]
  },
  {
   "cell_type": "code",
   "execution_count": 11,
   "metadata": {},
   "outputs": [],
   "source": [
    "sz=np.array([[1,0],[0,-1]])"
   ]
  },
  {
   "cell_type": "code",
   "execution_count": 12,
   "metadata": {},
   "outputs": [],
   "source": [
    "evals, all_state = np.linalg.eig(sz)"
   ]
  },
  {
   "cell_type": "code",
   "execution_count": 13,
   "metadata": {},
   "outputs": [
    {
     "data": {
      "text/plain": [
       "array([[1., 0.],\n",
       "       [0., 1.]])"
      ]
     },
     "execution_count": 13,
     "metadata": {},
     "output_type": "execute_result"
    }
   ],
   "source": [
    "all_state"
   ]
  },
  {
   "cell_type": "code",
   "execution_count": 10,
   "metadata": {},
   "outputs": [],
   "source": [
    "from qutip import sigmaz"
   ]
  },
  {
   "cell_type": "code",
   "execution_count": 19,
   "metadata": {},
   "outputs": [],
   "source": [
    "evals2, all_state2 = sigmaz().eigenstates()"
   ]
  },
  {
   "cell_type": "code",
   "execution_count": 20,
   "metadata": {},
   "outputs": [
    {
     "data": {
      "text/plain": [
       "array([[1., 0.],\n",
       "       [0., 1.]])"
      ]
     },
     "execution_count": 20,
     "metadata": {},
     "output_type": "execute_result"
    }
   ],
   "source": [
    "all_state"
   ]
  },
  {
   "cell_type": "code",
   "execution_count": 23,
   "metadata": {},
   "outputs": [
    {
     "data": {
      "text/plain": [
       "array([Quantum object: dims = [[2], [1]], shape = (2, 1), type = ket\n",
       "       Qobj data =\n",
       "       [[ 0.]\n",
       "        [-1.]]                                                      ,\n",
       "       Quantum object: dims = [[2], [1]], shape = (2, 1), type = ket\n",
       "       Qobj data =\n",
       "       [[-1.]\n",
       "        [ 0.]]                                                      ],\n",
       "      dtype=object)"
      ]
     },
     "execution_count": 23,
     "metadata": {},
     "output_type": "execute_result"
    }
   ],
   "source": [
    "all_state2"
   ]
  },
  {
   "cell_type": "code",
   "execution_count": 9,
   "metadata": {},
   "outputs": [
    {
     "ename": "AttributeError",
     "evalue": "'numpy.ndarray' object has no attribute 'eigenstates'",
     "output_type": "error",
     "traceback": [
      "\u001b[0;31m---------------------------------------------------------------------------\u001b[0m",
      "\u001b[0;31mAttributeError\u001b[0m                            Traceback (most recent call last)",
      "Cell \u001b[0;32mIn[9], line 1\u001b[0m\n\u001b[0;32m----> 1\u001b[0m eldict\u001b[38;5;241m=\u001b[39m\u001b[43mcc\u001b[49m\u001b[38;5;241;43m.\u001b[39;49m\u001b[43mgenerator\u001b[49m\u001b[43m(\u001b[49m\u001b[43m)\u001b[49m\n",
      "File \u001b[0;32m~/cumulant.py/cumulant/cumulant.py:89\u001b[0m, in \u001b[0;36mcsolve.generator\u001b[0;34m(self, regularized)\u001b[0m\n\u001b[1;32m     87\u001b[0m \u001b[38;5;250m\u001b[39m\u001b[38;5;124;03m\"\"\"Generates the cumulant super operator\"\"\"\u001b[39;00m\n\u001b[1;32m     88\u001b[0m superop \u001b[38;5;241m=\u001b[39m \u001b[38;5;241m0\u001b[39m\n\u001b[0;32m---> 89\u001b[0m evals, all_state \u001b[38;5;241m=\u001b[39m \u001b[38;5;28;43mself\u001b[39;49m\u001b[38;5;241;43m.\u001b[39;49m\u001b[43mHsys\u001b[49m\u001b[38;5;241;43m.\u001b[39;49m\u001b[43meigenstates\u001b[49m()\n\u001b[1;32m     90\u001b[0m N \u001b[38;5;241m=\u001b[39m \u001b[38;5;28mlen\u001b[39m(all_state)\n\u001b[1;32m     91\u001b[0m collapse_list \u001b[38;5;241m=\u001b[39m []\n",
      "\u001b[0;31mAttributeError\u001b[0m: 'numpy.ndarray' object has no attribute 'eigenstates'"
     ]
    }
   ],
   "source": [
    "eldict=cc.generator()"
   ]
  },
  {
   "cell_type": "code",
   "execution_count": 11,
   "metadata": {},
   "outputs": [],
   "source": [
    "from qutip import spre,spost"
   ]
  },
  {
   "cell_type": "code",
   "execution_count": 12,
   "metadata": {},
   "outputs": [],
   "source": [
    "sz=sigmaz().full()\n",
    "right=np.kron(sz,np.eye(2))"
   ]
  },
  {
   "cell_type": "code",
   "execution_count": 13,
   "metadata": {},
   "outputs": [],
   "source": [
    "sx=sigmax().full()"
   ]
  },
  {
   "cell_type": "code",
   "execution_count": 14,
   "metadata": {},
   "outputs": [
    {
     "data": {
      "text/latex": [
       "Quantum object: dims = [[2], [2]], shape = (2, 2), type = oper, isherm = False $ \\\\ \\left(\\begin{matrix}0.0 & 1.0\\\\-1.0 & 0.0\\\\\\end{matrix}\\right)$"
      ],
      "text/plain": [
       "Quantum object: dims = [[2], [2]], shape = (2, 2), type = oper, isherm = False\n",
       "Qobj data =\n",
       "[[ 0.  1.]\n",
       " [-1.  0.]]"
      ]
     },
     "execution_count": 14,
     "metadata": {},
     "output_type": "execute_result"
    }
   ],
   "source": [
    "sigmaz()*sigmax()"
   ]
  },
  {
   "cell_type": "code",
   "execution_count": 15,
   "metadata": {},
   "outputs": [
    {
     "data": {
      "text/latex": [
       "Quantum object: dims = [[2], [2]], shape = (2, 2), type = oper, isherm = False $ \\\\ \\left(\\begin{matrix}0.0 & 1.0\\\\-1.0 & 0.0\\\\\\end{matrix}\\right)$"
      ],
      "text/plain": [
       "Quantum object: dims = [[2], [2]], shape = (2, 2), type = oper, isherm = False\n",
       "Qobj data =\n",
       "[[ 0.  1.]\n",
       " [-1.  0.]]"
      ]
     },
     "execution_count": 15,
     "metadata": {},
     "output_type": "execute_result"
    }
   ],
   "source": [
    "spre(sigmaz())(sigmax())"
   ]
  },
  {
   "cell_type": "code",
   "execution_count": 16,
   "metadata": {},
   "outputs": [
    {
     "data": {
      "text/plain": [
       "array([[ 0.+0.j,  1.+0.j],\n",
       "       [-1.+0.j,  0.+0.j]])"
      ]
     },
     "execution_count": 16,
     "metadata": {},
     "output_type": "execute_result"
    }
   ],
   "source": [
    "(right@sx.reshape(4)).reshape((2,2))"
   ]
  },
  {
   "cell_type": "code",
   "execution_count": 17,
   "metadata": {},
   "outputs": [
    {
     "data": {
      "text/latex": [
       "Quantum object: dims = [[4], [4]], shape = (4, 4), type = oper, isherm = True $ \\\\ \\left(\\begin{matrix}1.0 & 0.0 & 0.0 & 0.0\\\\0.0 & 1.0 & 0.0 & 0.0\\\\0.0 & 0.0 & -1.0 & 0.0\\\\0.0 & 0.0 & 0.0 & -1.0\\\\\\end{matrix}\\right)$"
      ],
      "text/plain": [
       "Quantum object: dims = [[4], [4]], shape = (4, 4), type = oper, isherm = True\n",
       "Qobj data =\n",
       "[[ 1.  0.  0.  0.]\n",
       " [ 0.  1.  0.  0.]\n",
       " [ 0.  0. -1.  0.]\n",
       " [ 0.  0.  0. -1.]]"
      ]
     },
     "execution_count": 17,
     "metadata": {},
     "output_type": "execute_result"
    }
   ],
   "source": [
    "Qobj(right)"
   ]
  },
  {
   "cell_type": "code",
   "execution_count": 18,
   "metadata": {},
   "outputs": [],
   "source": [
    "\n",
    "def spre_np(op):\n",
    "    right = np.kron(op,np.eye(op.shape[0]))\n",
    "    return right#lambda x:(right@x.reshape(op.shape[0]**2)).reshape(op.shape[0],op.shape[0])\n",
    "def spost_np(op):\n",
    "    left=np.kron(np.eye(op.shape[0]),op.T)\n",
    "    return left#lambda x: (left@x.reshape(op.shape[0]**2)).reshape(op.shape[0],op.shape[0])"
   ]
  },
  {
   "cell_type": "code",
   "execution_count": 144,
   "metadata": {},
   "outputs": [],
   "source": [
    "class spre_np:\n",
    "    def __init__(self, op):\n",
    "        self.right = np.kron(op,np.eye(op.shape[0]))\n",
    "        self.dim=op.shape[0]\n",
    "        self.func=lambda x:(self.right@x.reshape(op.shape[0]**2)).reshape(op.shape[0],op.shape[0])\n",
    "    def __call__(self, *args, **kwargs):\n",
    "        return self.func(*args,**kwargs)\n",
    "    def __add__(self, other):\n",
    "        self.right+=other.right\n",
    "        self.func=lambda x:(self.right@x.reshape(self.dim**2)).reshape(self.dim,self.dim)\n",
    "        return self\n",
    "\n",
    "    def __sub__(self, other):\n",
    "        self.right -= other.right\n",
    "        self.func = lambda x: (\n",
    "            self.right@x.reshape(self.dim**2)).reshape(self.dim, self.dim)\n",
    "        return self\n",
    "\n",
    "    def __mul__(self, other):\n",
    "        if type(other) in (int, float, complex):\n",
    "            self.right *= other\n",
    "            self.func = lambda x: (\n",
    "                self.right@x.reshape(self.dim**2)).reshape(self.dim, self.dim)\n",
    "            return self\n",
    "        self.right = self.right @ other.right\n",
    "        self.func = lambda x: (\n",
    "            self.right@x.reshape(self.dim**2)).reshape(self.dim, self.dim)\n",
    "        return self\n",
    "    \n",
    "class spost_np:\n",
    "    def __init__(self, op):\n",
    "        self.right = np.kron(np.eye(op.shape[0]), op.T)\n",
    "        self.dim=op.shape[0]\n",
    "        self.func = lambda x: (\n",
    "            self.right@x.reshape(op.shape[0]**2)).reshape(op.shape[0], op.shape[0])\n",
    "\n",
    "    def __call__(self, *args, **kwargs):\n",
    "        return self.func(*args, **kwargs)\n",
    "\n",
    "    def __add__(self, other):\n",
    "        self.right += other.right\n",
    "        self.func = lambda x: (\n",
    "        self.right@x.reshape(self.dim**2)).reshape(self.dim, self.dim)\n",
    "        return self\n",
    "    def __sub__(self, other):\n",
    "        self.right -= other.right\n",
    "        self.func = lambda x: (\n",
    "        self.right@x.reshape(self.dim**2)).reshape(self.dim, self.dim)\n",
    "        return self\n",
    "    def __mul__(self, other):\n",
    "        if type(other) in (int,float,complex):\n",
    "            self.right*=other\n",
    "            self.func = lambda x: (\n",
    "            self.right@x.reshape(self.dim**2)).reshape(self.dim, self.dim)\n",
    "            return self\n",
    "        self.right =self.right@ other.right\n",
    "        self.func = lambda x: (\n",
    "        self.right@x.reshape(self.dim**2)).reshape(self.dim, self.dim)\n",
    "        return self\n",
    "        "
   ]
  },
  {
   "cell_type": "code",
   "execution_count": 142,
   "metadata": {},
   "outputs": [
    {
     "data": {
      "text/plain": [
       "numpy.ndarray"
      ]
     },
     "execution_count": 142,
     "metadata": {},
     "output_type": "execute_result"
    }
   ],
   "source": [
    "type(sx)"
   ]
  },
  {
   "cell_type": "code",
   "execution_count": 99,
   "metadata": {},
   "outputs": [],
   "source": [
    "i=[-2,2]"
   ]
  },
  {
   "cell_type": "code",
   "execution_count": 100,
   "metadata": {},
   "outputs": [],
   "source": [
    "expr=spre(eldict[i[1]]) * spost(eldict[i[0]].dag()) "
   ]
  },
  {
   "cell_type": "code",
   "execution_count": 101,
   "metadata": {},
   "outputs": [
    {
     "data": {
      "text/latex": [
       "Quantum object: dims = [[2], [2]], shape = (2, 2), type = oper, isherm = False $ \\\\ \\left(\\begin{matrix}0.0 & 0.0\\\\-1.0j & 0.0\\\\\\end{matrix}\\right)$"
      ],
      "text/plain": [
       "Quantum object: dims = [[2], [2]], shape = (2, 2), type = oper, isherm = False\n",
       "Qobj data =\n",
       "[[0.+0.j 0.+0.j]\n",
       " [0.-1.j 0.+0.j]]"
      ]
     },
     "execution_count": 101,
     "metadata": {},
     "output_type": "execute_result"
    }
   ],
   "source": [
    "expr(sigmay())"
   ]
  },
  {
   "cell_type": "code",
   "execution_count": 102,
   "metadata": {},
   "outputs": [
    {
     "data": {
      "text/plain": [
       "<__main__.spre_np at 0x7f1141baaa80>"
      ]
     },
     "execution_count": 102,
     "metadata": {},
     "output_type": "execute_result"
    }
   ],
   "source": [
    "spre_np(sx)"
   ]
  },
  {
   "cell_type": "code",
   "execution_count": 103,
   "metadata": {},
   "outputs": [],
   "source": [
    "expr = spre_np(eldict[i[1]].full()) * spost_np(eldict[i[0]].dag().full())"
   ]
  },
  {
   "cell_type": "code",
   "execution_count": 104,
   "metadata": {},
   "outputs": [
    {
     "data": {
      "text/plain": [
       "array([[0.+0.j, 0.+0.j],\n",
       "       [0.-1.j, 0.+0.j]])"
      ]
     },
     "execution_count": 104,
     "metadata": {},
     "output_type": "execute_result"
    }
   ],
   "source": [
    "expr(sigmay().full())"
   ]
  },
  {
   "cell_type": "code",
   "execution_count": 118,
   "metadata": {},
   "outputs": [],
   "source": [
    "\n",
    "ss= spre(eldict[i[0]].dag() * eldict[i[1]]) + spost(eldict[i[0]].dag() * eldict[i[1]])"
   ]
  },
  {
   "cell_type": "code",
   "execution_count": 132,
   "metadata": {},
   "outputs": [
    {
     "data": {
      "text/plain": [
       "<__main__.spre_np at 0x7f1141b99a30>"
      ]
     },
     "execution_count": 132,
     "metadata": {},
     "output_type": "execute_result"
    }
   ],
   "source": [
    "ss_np = spre_np(eldict[i[0]].dag().full() @ eldict[i[1]].full()) + spost_np(eldict[i[0]].dag().full() @ eldict[i[1]].full())\n",
    "ss_np"
   ]
  },
  {
   "cell_type": "code",
   "execution_count": 134,
   "metadata": {},
   "outputs": [
    {
     "data": {
      "text/plain": [
       "array([[0.+0.j, 0.+0.j],\n",
       "       [0.+0.j, 0.+0.j]])"
      ]
     },
     "execution_count": 134,
     "metadata": {},
     "output_type": "execute_result"
    }
   ],
   "source": [
    "ss_np(sz)"
   ]
  },
  {
   "cell_type": "code",
   "execution_count": 135,
   "metadata": {},
   "outputs": [
    {
     "data": {
      "text/latex": [
       "Quantum object: dims = [[2], [2]], shape = (2, 2), type = oper, isherm = True $ \\\\ \\left(\\begin{matrix}0.0 & 0.0\\\\0.0 & 0.0\\\\\\end{matrix}\\right)$"
      ],
      "text/plain": [
       "Quantum object: dims = [[2], [2]], shape = (2, 2), type = oper, isherm = True\n",
       "Qobj data =\n",
       "[[0. 0.]\n",
       " [0. 0.]]"
      ]
     },
     "execution_count": 135,
     "metadata": {},
     "output_type": "execute_result"
    }
   ],
   "source": [
    "ss(sigmaz())"
   ]
  },
  {
   "cell_type": "code",
   "execution_count": null,
   "metadata": {},
   "outputs": [],
   "source": [
    "(spre(eldict[i[1]]) * spost(eldict[i[0]].dag()) -\n",
    " (0.5 *\n",
    "  (spre(eldict[i[0]].dag() * eldict[i[1]]) + spost(\n",
    "      eldict[i[0]].dag() * eldict[i[1]]))))"
   ]
  }
 ],
 "metadata": {
  "kernelspec": {
   "display_name": "cumulant",
   "language": "python",
   "name": "python3"
  },
  "language_info": {
   "codemirror_mode": {
    "name": "ipython",
    "version": 3
   },
   "file_extension": ".py",
   "mimetype": "text/x-python",
   "name": "python",
   "nbconvert_exporter": "python",
   "pygments_lexer": "ipython3",
   "version": "3.12.0"
  }
 },
 "nbformat": 4,
 "nbformat_minor": 2
}
