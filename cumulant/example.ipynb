{
 "cells": [
  {
   "cell_type": "code",
   "execution_count": 1,
   "metadata": {},
   "outputs": [],
   "source": [
    "from cumulant import csolve"
   ]
  },
  {
   "cell_type": "code",
   "execution_count": 19,
   "metadata": {},
   "outputs": [
    {
     "name": "stdout",
     "output_type": "stream",
     "text": [
      "Collecting qutip\n",
      "  Downloading qutip-4.7.5.tar.gz (3.6 MB)\n",
      "\u001b[2K     \u001b[90m━━━━━━━━━━━━━━━━━━━━━━━━━━━━━━━━━━━━━━━━\u001b[0m \u001b[32m3.6/3.6 MB\u001b[0m \u001b[31m5.2 MB/s\u001b[0m eta \u001b[36m0:00:00\u001b[0m00:01\u001b[0m00:01\u001b[0m\n",
      "\u001b[?25h  Installing build dependencies ... \u001b[?25ldone\n",
      "\u001b[?25h  Getting requirements to build wheel ... \u001b[?25ldone\n",
      "\u001b[?25h  Preparing metadata (pyproject.toml) ... \u001b[?25ldone\n",
      "\u001b[?25hRequirement already satisfied: numpy>=1.16.6 in /home/mcditoos/anaconda3/envs/cumulant/lib/python3.12/site-packages (from qutip) (1.26.3)\n",
      "Requirement already satisfied: scipy>=1.0 in /home/mcditoos/anaconda3/envs/cumulant/lib/python3.12/site-packages (from qutip) (1.11.4)\n",
      "Requirement already satisfied: packaging in /home/mcditoos/anaconda3/envs/cumulant/lib/python3.12/site-packages (from qutip) (23.2)\n",
      "Building wheels for collected packages: qutip\n",
      "  Building wheel for qutip (pyproject.toml) ... \u001b[?25ldone\n",
      "\u001b[?25h  Created wheel for qutip: filename=qutip-4.7.5-cp312-cp312-linux_x86_64.whl size=6520619 sha256=6dcdb49d72127c80c1f17b2701737b8245a7235733c604c5034e85983a846c16\n",
      "  Stored in directory: /home/mcditoos/.cache/pip/wheels/8c/5f/9e/f9ccbe178ac2e6b68831ee4df56149c4b6e1c6b917cee5578e\n",
      "Successfully built qutip\n",
      "Installing collected packages: qutip\n",
      "Successfully installed qutip-4.7.5\n"
     ]
    }
   ],
   "source": [
    "!pip install qutip"
   ]
  },
  {
   "cell_type": "code",
   "execution_count": 3,
   "metadata": {},
   "outputs": [],
   "source": [
    "import numpy as np"
   ]
  },
  {
   "cell_type": "code",
   "execution_count": 5,
   "metadata": {},
   "outputs": [],
   "source": [
    "w0 = 1\n",
    "Deltaw = 1e-2*w0\n",
    "alpha = 0.000159155*w0\n",
    "gamma = 5*w0\n",
    "T = 1*w0\n",
    "tf = 40000\n",
    "Hsys = np.array([[w0+(Deltaw/2), 0, 0], [0, w0-(Deltaw/2), 0], [0, 0, 0]])\n",
    "Q = np.array([[0,0,1],[0,0,1],[1,1,0]])"
   ]
  },
  {
   "cell_type": "code",
   "execution_count": 6,
   "metadata": {},
   "outputs": [],
   "source": [
    "cc = csolve(np.array([[1,0],[0,-1]]),np.linspace(0,tf,5000) , 1e-6, alpha, gamma, T, np.array([[0,1],[1,0]]), \"ohmic\")"
   ]
  },
  {
   "cell_type": "code",
   "execution_count": 8,
   "metadata": {},
   "outputs": [],
   "source": [
    "rho0=np.eye(3)/3"
   ]
  },
  {
   "cell_type": "code",
   "execution_count": 11,
   "metadata": {},
   "outputs": [],
   "source": [
    "sz=np.array([[1,0],[0,-1]])"
   ]
  },
  {
   "cell_type": "code",
   "execution_count": 13,
   "metadata": {},
   "outputs": [],
   "source": [
    "evals, all_state = np.linalg.eig(sz)"
   ]
  },
  {
   "cell_type": "code",
   "execution_count": 18,
   "metadata": {},
   "outputs": [
    {
     "data": {
      "text/plain": [
       "array([[1., 0.],\n",
       "       [0., 1.]])"
      ]
     },
     "execution_count": 18,
     "metadata": {},
     "output_type": "execute_result"
    }
   ],
   "source": [
    "all_state"
   ]
  },
  {
   "cell_type": "code",
   "execution_count": 15,
   "metadata": {},
   "outputs": [
    {
     "data": {
      "text/plain": [
       "array([ 1., -1.])"
      ]
     },
     "execution_count": 15,
     "metadata": {},
     "output_type": "execute_result"
    }
   ],
   "source": [
    "evals"
   ]
  },
  {
   "cell_type": "code",
   "execution_count": 9,
   "metadata": {},
   "outputs": [
    {
     "ename": "AttributeError",
     "evalue": "'numpy.ndarray' object has no attribute 'eigenstates'",
     "output_type": "error",
     "traceback": [
      "\u001b[0;31m---------------------------------------------------------------------------\u001b[0m",
      "\u001b[0;31mAttributeError\u001b[0m                            Traceback (most recent call last)",
      "Cell \u001b[0;32mIn[9], line 1\u001b[0m\n\u001b[0;32m----> 1\u001b[0m eldict\u001b[38;5;241m=\u001b[39m\u001b[43mcc\u001b[49m\u001b[38;5;241;43m.\u001b[39;49m\u001b[43mgenerator\u001b[49m\u001b[43m(\u001b[49m\u001b[43m)\u001b[49m\n",
      "File \u001b[0;32m~/cumulant.py/cumulant/cumulant.py:89\u001b[0m, in \u001b[0;36mcsolve.generator\u001b[0;34m(self, regularized)\u001b[0m\n\u001b[1;32m     87\u001b[0m \u001b[38;5;250m\u001b[39m\u001b[38;5;124;03m\"\"\"Generates the cumulant super operator\"\"\"\u001b[39;00m\n\u001b[1;32m     88\u001b[0m superop \u001b[38;5;241m=\u001b[39m \u001b[38;5;241m0\u001b[39m\n\u001b[0;32m---> 89\u001b[0m evals, all_state \u001b[38;5;241m=\u001b[39m \u001b[38;5;28;43mself\u001b[39;49m\u001b[38;5;241;43m.\u001b[39;49m\u001b[43mHsys\u001b[49m\u001b[38;5;241;43m.\u001b[39;49m\u001b[43meigenstates\u001b[49m()\n\u001b[1;32m     90\u001b[0m N \u001b[38;5;241m=\u001b[39m \u001b[38;5;28mlen\u001b[39m(all_state)\n\u001b[1;32m     91\u001b[0m collapse_list \u001b[38;5;241m=\u001b[39m []\n",
      "\u001b[0;31mAttributeError\u001b[0m: 'numpy.ndarray' object has no attribute 'eigenstates'"
     ]
    }
   ],
   "source": [
    "eldict=cc.generator()"
   ]
  },
  {
   "cell_type": "code",
   "execution_count": 11,
   "metadata": {},
   "outputs": [],
   "source": [
    "from qutip import spre,spost"
   ]
  },
  {
   "cell_type": "code",
   "execution_count": 12,
   "metadata": {},
   "outputs": [],
   "source": [
    "sz=sigmaz().full()\n",
    "right=np.kron(sz,np.eye(2))"
   ]
  },
  {
   "cell_type": "code",
   "execution_count": 13,
   "metadata": {},
   "outputs": [],
   "source": [
    "sx=sigmax().full()"
   ]
  },
  {
   "cell_type": "code",
   "execution_count": 14,
   "metadata": {},
   "outputs": [
    {
     "data": {
      "text/latex": [
       "Quantum object: dims = [[2], [2]], shape = (2, 2), type = oper, isherm = False $ \\\\ \\left(\\begin{matrix}0.0 & 1.0\\\\-1.0 & 0.0\\\\\\end{matrix}\\right)$"
      ],
      "text/plain": [
       "Quantum object: dims = [[2], [2]], shape = (2, 2), type = oper, isherm = False\n",
       "Qobj data =\n",
       "[[ 0.  1.]\n",
       " [-1.  0.]]"
      ]
     },
     "execution_count": 14,
     "metadata": {},
     "output_type": "execute_result"
    }
   ],
   "source": [
    "sigmaz()*sigmax()"
   ]
  },
  {
   "cell_type": "code",
   "execution_count": 15,
   "metadata": {},
   "outputs": [
    {
     "data": {
      "text/latex": [
       "Quantum object: dims = [[2], [2]], shape = (2, 2), type = oper, isherm = False $ \\\\ \\left(\\begin{matrix}0.0 & 1.0\\\\-1.0 & 0.0\\\\\\end{matrix}\\right)$"
      ],
      "text/plain": [
       "Quantum object: dims = [[2], [2]], shape = (2, 2), type = oper, isherm = False\n",
       "Qobj data =\n",
       "[[ 0.  1.]\n",
       " [-1.  0.]]"
      ]
     },
     "execution_count": 15,
     "metadata": {},
     "output_type": "execute_result"
    }
   ],
   "source": [
    "spre(sigmaz())(sigmax())"
   ]
  },
  {
   "cell_type": "code",
   "execution_count": 16,
   "metadata": {},
   "outputs": [
    {
     "data": {
      "text/plain": [
       "array([[ 0.+0.j,  1.+0.j],\n",
       "       [-1.+0.j,  0.+0.j]])"
      ]
     },
     "execution_count": 16,
     "metadata": {},
     "output_type": "execute_result"
    }
   ],
   "source": [
    "(right@sx.reshape(4)).reshape((2,2))"
   ]
  },
  {
   "cell_type": "code",
   "execution_count": 17,
   "metadata": {},
   "outputs": [
    {
     "data": {
      "text/latex": [
       "Quantum object: dims = [[4], [4]], shape = (4, 4), type = oper, isherm = True $ \\\\ \\left(\\begin{matrix}1.0 & 0.0 & 0.0 & 0.0\\\\0.0 & 1.0 & 0.0 & 0.0\\\\0.0 & 0.0 & -1.0 & 0.0\\\\0.0 & 0.0 & 0.0 & -1.0\\\\\\end{matrix}\\right)$"
      ],
      "text/plain": [
       "Quantum object: dims = [[4], [4]], shape = (4, 4), type = oper, isherm = True\n",
       "Qobj data =\n",
       "[[ 1.  0.  0.  0.]\n",
       " [ 0.  1.  0.  0.]\n",
       " [ 0.  0. -1.  0.]\n",
       " [ 0.  0.  0. -1.]]"
      ]
     },
     "execution_count": 17,
     "metadata": {},
     "output_type": "execute_result"
    }
   ],
   "source": [
    "Qobj(right)"
   ]
  },
  {
   "cell_type": "code",
   "execution_count": 18,
   "metadata": {},
   "outputs": [],
   "source": [
    "\n",
    "def spre_np(op):\n",
    "    right = np.kron(op,np.eye(op.shape[0]))\n",
    "    return right#lambda x:(right@x.reshape(op.shape[0]**2)).reshape(op.shape[0],op.shape[0])\n",
    "def spost_np(op):\n",
    "    left=np.kron(np.eye(op.shape[0]),op.T)\n",
    "    return left#lambda x: (left@x.reshape(op.shape[0]**2)).reshape(op.shape[0],op.shape[0])"
   ]
  },
  {
   "cell_type": "code",
   "execution_count": 144,
   "metadata": {},
   "outputs": [],
   "source": [
    "class spre_np:\n",
    "    def __init__(self, op):\n",
    "        self.right = np.kron(op,np.eye(op.shape[0]))\n",
    "        self.dim=op.shape[0]\n",
    "        self.func=lambda x:(self.right@x.reshape(op.shape[0]**2)).reshape(op.shape[0],op.shape[0])\n",
    "    def __call__(self, *args, **kwargs):\n",
    "        return self.func(*args,**kwargs)\n",
    "    def __add__(self, other):\n",
    "        self.right+=other.right\n",
    "        self.func=lambda x:(self.right@x.reshape(self.dim**2)).reshape(self.dim,self.dim)\n",
    "        return self\n",
    "\n",
    "    def __sub__(self, other):\n",
    "        self.right -= other.right\n",
    "        self.func = lambda x: (\n",
    "            self.right@x.reshape(self.dim**2)).reshape(self.dim, self.dim)\n",
    "        return self\n",
    "\n",
    "    def __mul__(self, other):\n",
    "        if type(other) in (int, float, complex):\n",
    "            self.right *= other\n",
    "            self.func = lambda x: (\n",
    "                self.right@x.reshape(self.dim**2)).reshape(self.dim, self.dim)\n",
    "            return self\n",
    "        self.right = self.right @ other.right\n",
    "        self.func = lambda x: (\n",
    "            self.right@x.reshape(self.dim**2)).reshape(self.dim, self.dim)\n",
    "        return self\n",
    "    \n",
    "class spost_np:\n",
    "    def __init__(self, op):\n",
    "        self.right = np.kron(np.eye(op.shape[0]), op.T)\n",
    "        self.dim=op.shape[0]\n",
    "        self.func = lambda x: (\n",
    "            self.right@x.reshape(op.shape[0]**2)).reshape(op.shape[0], op.shape[0])\n",
    "\n",
    "    def __call__(self, *args, **kwargs):\n",
    "        return self.func(*args, **kwargs)\n",
    "\n",
    "    def __add__(self, other):\n",
    "        self.right += other.right\n",
    "        self.func = lambda x: (\n",
    "        self.right@x.reshape(self.dim**2)).reshape(self.dim, self.dim)\n",
    "        return self\n",
    "    def __sub__(self, other):\n",
    "        self.right -= other.right\n",
    "        self.func = lambda x: (\n",
    "        self.right@x.reshape(self.dim**2)).reshape(self.dim, self.dim)\n",
    "        return self\n",
    "    def __mul__(self, other):\n",
    "        if type(other) in (int,float,complex):\n",
    "            self.right*=other\n",
    "            self.func = lambda x: (\n",
    "            self.right@x.reshape(self.dim**2)).reshape(self.dim, self.dim)\n",
    "            return self\n",
    "        self.right =self.right@ other.right\n",
    "        self.func = lambda x: (\n",
    "        self.right@x.reshape(self.dim**2)).reshape(self.dim, self.dim)\n",
    "        return self\n",
    "        "
   ]
  },
  {
   "cell_type": "code",
   "execution_count": 142,
   "metadata": {},
   "outputs": [
    {
     "data": {
      "text/plain": [
       "numpy.ndarray"
      ]
     },
     "execution_count": 142,
     "metadata": {},
     "output_type": "execute_result"
    }
   ],
   "source": [
    "type(sx)"
   ]
  },
  {
   "cell_type": "code",
   "execution_count": 99,
   "metadata": {},
   "outputs": [],
   "source": [
    "i=[-2,2]"
   ]
  },
  {
   "cell_type": "code",
   "execution_count": 100,
   "metadata": {},
   "outputs": [],
   "source": [
    "expr=spre(eldict[i[1]]) * spost(eldict[i[0]].dag()) "
   ]
  },
  {
   "cell_type": "code",
   "execution_count": 101,
   "metadata": {},
   "outputs": [
    {
     "data": {
      "text/latex": [
       "Quantum object: dims = [[2], [2]], shape = (2, 2), type = oper, isherm = False $ \\\\ \\left(\\begin{matrix}0.0 & 0.0\\\\-1.0j & 0.0\\\\\\end{matrix}\\right)$"
      ],
      "text/plain": [
       "Quantum object: dims = [[2], [2]], shape = (2, 2), type = oper, isherm = False\n",
       "Qobj data =\n",
       "[[0.+0.j 0.+0.j]\n",
       " [0.-1.j 0.+0.j]]"
      ]
     },
     "execution_count": 101,
     "metadata": {},
     "output_type": "execute_result"
    }
   ],
   "source": [
    "expr(sigmay())"
   ]
  },
  {
   "cell_type": "code",
   "execution_count": 102,
   "metadata": {},
   "outputs": [
    {
     "data": {
      "text/plain": [
       "<__main__.spre_np at 0x7f1141baaa80>"
      ]
     },
     "execution_count": 102,
     "metadata": {},
     "output_type": "execute_result"
    }
   ],
   "source": [
    "spre_np(sx)"
   ]
  },
  {
   "cell_type": "code",
   "execution_count": 103,
   "metadata": {},
   "outputs": [],
   "source": [
    "expr = spre_np(eldict[i[1]].full()) * spost_np(eldict[i[0]].dag().full())"
   ]
  },
  {
   "cell_type": "code",
   "execution_count": 104,
   "metadata": {},
   "outputs": [
    {
     "data": {
      "text/plain": [
       "array([[0.+0.j, 0.+0.j],\n",
       "       [0.-1.j, 0.+0.j]])"
      ]
     },
     "execution_count": 104,
     "metadata": {},
     "output_type": "execute_result"
    }
   ],
   "source": [
    "expr(sigmay().full())"
   ]
  },
  {
   "cell_type": "code",
   "execution_count": 118,
   "metadata": {},
   "outputs": [],
   "source": [
    "\n",
    "ss= spre(eldict[i[0]].dag() * eldict[i[1]]) + spost(eldict[i[0]].dag() * eldict[i[1]])"
   ]
  },
  {
   "cell_type": "code",
   "execution_count": 132,
   "metadata": {},
   "outputs": [
    {
     "data": {
      "text/plain": [
       "<__main__.spre_np at 0x7f1141b99a30>"
      ]
     },
     "execution_count": 132,
     "metadata": {},
     "output_type": "execute_result"
    }
   ],
   "source": [
    "ss_np = spre_np(eldict[i[0]].dag().full() @ eldict[i[1]].full()) + spost_np(eldict[i[0]].dag().full() @ eldict[i[1]].full())\n",
    "ss_np"
   ]
  },
  {
   "cell_type": "code",
   "execution_count": 134,
   "metadata": {},
   "outputs": [
    {
     "data": {
      "text/plain": [
       "array([[0.+0.j, 0.+0.j],\n",
       "       [0.+0.j, 0.+0.j]])"
      ]
     },
     "execution_count": 134,
     "metadata": {},
     "output_type": "execute_result"
    }
   ],
   "source": [
    "ss_np(sz)"
   ]
  },
  {
   "cell_type": "code",
   "execution_count": 135,
   "metadata": {},
   "outputs": [
    {
     "data": {
      "text/latex": [
       "Quantum object: dims = [[2], [2]], shape = (2, 2), type = oper, isherm = True $ \\\\ \\left(\\begin{matrix}0.0 & 0.0\\\\0.0 & 0.0\\\\\\end{matrix}\\right)$"
      ],
      "text/plain": [
       "Quantum object: dims = [[2], [2]], shape = (2, 2), type = oper, isherm = True\n",
       "Qobj data =\n",
       "[[0. 0.]\n",
       " [0. 0.]]"
      ]
     },
     "execution_count": 135,
     "metadata": {},
     "output_type": "execute_result"
    }
   ],
   "source": [
    "ss(sigmaz())"
   ]
  },
  {
   "cell_type": "code",
   "execution_count": null,
   "metadata": {},
   "outputs": [],
   "source": [
    "(spre(eldict[i[1]]) * spost(eldict[i[0]].dag()) -\n",
    " (0.5 *\n",
    "  (spre(eldict[i[0]].dag() * eldict[i[1]]) + spost(\n",
    "      eldict[i[0]].dag() * eldict[i[1]]))))"
   ]
  }
 ],
 "metadata": {
  "kernelspec": {
   "display_name": "cumulant",
   "language": "python",
   "name": "python3"
  },
  "language_info": {
   "codemirror_mode": {
    "name": "ipython",
    "version": 3
   },
   "file_extension": ".py",
   "mimetype": "text/x-python",
   "name": "python",
   "nbconvert_exporter": "python",
   "pygments_lexer": "ipython3",
   "version": "3.12.0"
  }
 },
 "nbformat": 4,
 "nbformat_minor": 2
}
