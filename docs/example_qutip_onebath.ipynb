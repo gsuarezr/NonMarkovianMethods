{
 "cells": [
  {
   "cell_type": "code",
   "execution_count": 5,
   "metadata": {},
   "outputs": [],
   "source": [
    "from nmm import csolve,OhmicBath,OverdampedBath\n",
    "from qutip import Qobj,sigmaz,sigmax,sigmay\n",
    "import numpy as np\n",
    "import matplotlib.pyplot as plt"
   ]
  },
  {
   "cell_type": "code",
   "execution_count": 6,
   "metadata": {},
   "outputs": [],
   "source": [
    "w0 = 1\n",
    "alpha = 0.05\n",
    "gamma = 5\n",
    "T = 1*w0\n",
    "tf = 40\n",
    "t=np.linspace(0,tf,200)\n",
    "Hsys = sigmaz()/2\n",
    "Q = sigmax()"
   ]
  },
  {
   "cell_type": "code",
   "execution_count": 7,
   "metadata": {},
   "outputs": [],
   "source": [
    "bath=OverdampedBath(T,alpha,gamma)"
   ]
  },
  {
   "cell_type": "code",
   "execution_count": 8,
   "metadata": {},
   "outputs": [],
   "source": [
    "cc2 = csolve(Hsys, t ,[bath], [Q],eps=1e-5)"
   ]
  },
  {
   "cell_type": "code",
   "execution_count": 9,
   "metadata": {},
   "outputs": [],
   "source": [
    "rho0=0.5*Qobj([[1,1],[1,1]])"
   ]
  },
  {
   "cell_type": "code",
   "execution_count": 10,
   "metadata": {},
   "outputs": [
    {
     "name": "stdout",
     "output_type": "stream",
     "text": [
      "1\n"
     ]
    },
    {
     "name": "stderr",
     "output_type": "stream",
     "text": [
      "Calculating Integrals ...: 100%|██████████| 4/4 [00:17<00:00,  4.28s/it]\n",
      "Calculating the generator ...: 100%|██████████| 4/4 [00:00<00:00, 2324.68it/s]\n",
      "Computing Exponential of Generators . . . .: 100%|██████████| 200/200 [00:00<00:00, 1801.88it/s]\n"
     ]
    }
   ],
   "source": [
    "result=cc2.evolution(rho0)\n",
    "#result2=cc.evolution(rho0)"
   ]
  },
  {
   "cell_type": "code",
   "execution_count": 11,
   "metadata": {},
   "outputs": [
    {
     "data": {
      "text/latex": [
       "Quantum object: dims=[[[2], [2]], [[2], [2]]], shape=(4, 4), type='super', isherm=False$$\\left(\\begin{array}{cc}-0.366 & 0 & 0 & 0.169\\\\0 & -0.268 & (-0.049-0.104j) & 0\\\\0 & (-0.049+0.104j) & -0.268 & 0\\\\0.366 & 0 & 0 & -0.169\\end{array}\\right)$$"
      ],
      "text/plain": [
       "Quantum object: dims=[[[2], [2]], [[2], [2]]], shape=(4, 4), type='super', isherm=False\n",
       "Qobj data =\n",
       "[[-0.36588228+0.j         0.        +0.j         0.        +0.j\n",
       "   0.16947668+0.j       ]\n",
       " [ 0.        +0.j        -0.26767948+0.j        -0.04892008-0.1041142j\n",
       "   0.        +0.j       ]\n",
       " [ 0.        +0.j        -0.04892008+0.1041142j -0.26767948+0.j\n",
       "   0.        +0.j       ]\n",
       " [ 0.36588228+0.j         0.        +0.j         0.        +0.j\n",
       "  -0.16947668+0.j       ]]"
      ]
     },
     "execution_count": 11,
     "metadata": {},
     "output_type": "execute_result"
    }
   ],
   "source": [
    "cc2.generators[10]"
   ]
  },
  {
   "cell_type": "code",
   "execution_count": 12,
   "metadata": {},
   "outputs": [],
   "source": [
    "def population(den, a, b):\n",
    "    return [den[i][a, b] for i in range(len(den))]"
   ]
  },
  {
   "cell_type": "code",
   "execution_count": 22,
   "metadata": {},
   "outputs": [],
   "source": [
    "from qutip.solver.heom import DrudeLorentzPadeBath,HEOMSolver"
   ]
  },
  {
   "cell_type": "code",
   "execution_count": 23,
   "metadata": {},
   "outputs": [
    {
     "name": "stdout",
     "output_type": "stream",
     "text": [
      "10.1%. Run time:   3.76s. Est. time left: 00:00:00:33\n",
      "20.1%. Run time:   7.78s. Est. time left: 00:00:00:30\n",
      "30.2%. Run time:  11.76s. Est. time left: 00:00:00:27\n",
      "40.2%. Run time:  15.67s. Est. time left: 00:00:00:23\n",
      "50.3%. Run time:  19.49s. Est. time left: 00:00:00:19\n",
      "60.3%. Run time:  23.17s. Est. time left: 00:00:00:15\n",
      "70.4%. Run time:  26.84s. Est. time left: 00:00:00:11\n",
      "80.4%. Run time:  30.42s. Est. time left: 00:00:00:07\n",
      "90.5%. Run time:  33.85s. Est. time left: 00:00:00:03\n",
      "100.0%. Run time:  37.19s. Est. time left: 00:00:00:00\n",
      "Total run time:  37.19s\n"
     ]
    }
   ],
   "source": [
    "bath = DrudeLorentzPadeBath(Q=Q, lam=alpha*np.pi, gamma=gamma, T=T, Nk=8)\n",
    "solver = HEOMSolver(Hsys, bath, max_depth=5)\n",
    "result_h = solver.run(rho0, t)"
   ]
  },
  {
   "cell_type": "code",
   "execution_count": 15,
   "metadata": {},
   "outputs": [],
   "source": [
    "from qutip import brmesolve"
   ]
  },
  {
   "cell_type": "code",
   "execution_count": 33,
   "metadata": {},
   "outputs": [],
   "source": [
    "def br(rho0,sec=-1):\n",
    "    a_ops = [[Q,bath.power_spectrum]]\n",
    "    resultBR = brmesolve(\n",
    "        Hsys, rho0, t, a_ops=a_ops,sec_cutoff=sec\n",
    "    )\n",
    "    return resultBR"
   ]
  },
  {
   "cell_type": "code",
   "execution_count": 34,
   "metadata": {},
   "outputs": [],
   "source": [
    "resultBR=br(rho0)"
   ]
  },
  {
   "cell_type": "code",
   "execution_count": 36,
   "metadata": {},
   "outputs": [
    {
     "data": {
      "image/png": "[encoded data removed]",
      "text/plain": [
       "<Figure size 640x480 with 1 Axes>"
      ]
     },
     "metadata": {},
     "output_type": "display_data"
    }
   ],
   "source": [
    "i,j=0,0\n",
    "plt.plot(t, np.abs(population(result, i, j)),label='Cumulant')\n",
    "plt.plot(t, np.abs(population(resultBR.states, i, j)),label='BR')\n",
    "plt.plot(t, np.abs(population(result_h.states, i, j)),label='HEOM')\n",
    "plt.legend()\n",
    "plt.show()\n"
   ]
  }
 ],
 "metadata": {
  "kernelspec": {
   "display_name": "cumulant",
   "language": "python",
   "name": "python3"
  },
  "language_info": {
   "codemirror_mode": {
    "name": "ipython",
    "version": 3
   },
   "file_extension": ".py",
   "mimetype": "text/x-python",
   "name": "python",
   "nbconvert_exporter": "python",
   "pygments_lexer": "ipython3",
   "version": "3.12.2"
  }
 },
 "nbformat": 4,
 "nbformat_minor": 2
}
