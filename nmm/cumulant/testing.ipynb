{
 "cells": [
  {
   "cell_type": "code",
   "execution_count": 1,
   "metadata": {},
   "outputs": [],
   "source": [
    "import nmm\n",
    "from qutip import sigmaz,sigmax,sigmay,Qobj\n",
    "import numpy as np"
   ]
  },
  {
   "cell_type": "code",
   "execution_count": 2,
   "metadata": {},
   "outputs": [],
   "source": [
    "bath=nmm.OverdampedBath(coupling=0.05,cutoff=5,T=1)"
   ]
  },
  {
   "cell_type": "code",
   "execution_count": 3,
   "metadata": {},
   "outputs": [],
   "source": [
    "w,w1=1,2\n",
    "t=np.linspace(0,10,1000)"
   ]
  },
  {
   "cell_type": "code",
   "execution_count": 4,
   "metadata": {},
   "outputs": [],
   "source": [
    "cc=nmm.cumulant.csolve(Hsys=sigmaz()/2,baths=[bath],t=t,Qs=[(sigmax()+sigmay()+sigmaz())],eps=1e-6,cython=False)\n",
    "cc_c=nmm.cumulant.csolve(Hsys=sigmaz()/2,baths=[bath],t=t,Qs=[(sigmax()+sigmay()+sigmaz())],eps=1e-6,cython=True)"
   ]
  },
  {
   "cell_type": "code",
   "execution_count": 5,
   "metadata": {},
   "outputs": [
    {
     "name": "stderr",
     "output_type": "stream",
     "text": [
      "/home/mcditoos/anaconda3/envs/qutip-dev/lib/python3.12/site-packages/scipy/integrate/_quadpack_py.py:446: IntegrationWarning: The maximum number of subdivisions (50) has been achieved.\n",
      "  If increasing the limit yields no improvement it is advised to analyze \n",
      "  the integrand in order to determine the difficulties.  If the position of a \n",
      "  local difficulty can be determined (singularity, discontinuity) one will \n",
      "  probably gain from splitting up the interval and calling the integrator \n",
      "  on the subranges.  Perhaps a special-purpose integrator should be used.\n",
      "  re_retval = quad(refunc, a, b, args, full_output, epsabs,\n",
      "/home/mcditoos/anaconda3/envs/qutip-dev/lib/python3.12/site-packages/scipy/integrate/_quadpack_py.py:449: IntegrationWarning: The maximum number of subdivisions (50) has been achieved.\n",
      "  If increasing the limit yields no improvement it is advised to analyze \n",
      "  the integrand in order to determine the difficulties.  If the position of a \n",
      "  local difficulty can be determined (singularity, discontinuity) one will \n",
      "  probably gain from splitting up the interval and calling the integrator \n",
      "  on the subranges.  Perhaps a special-purpose integrator should be used.\n",
      "  im_retval = quad(imfunc, a, b, args, full_output, epsabs,\n"
     ]
    }
   ],
   "source": [
    "ans=cc_c.Γgen(cc_c.baths[0],w,w1,t)"
   ]
  },
  {
   "cell_type": "code",
   "execution_count": 6,
   "metadata": {},
   "outputs": [],
   "source": [
    "ans2=cc.Γgen(bath,w,w1,t)"
   ]
  },
  {
   "cell_type": "code",
   "execution_count": 7,
   "metadata": {},
   "outputs": [],
   "source": [
    "rho0=0.5*Qobj([[1,1],[1,1]])"
   ]
  },
  {
   "cell_type": "code",
   "execution_count": 8,
   "metadata": {},
   "outputs": [],
   "source": [
    "Hsys=sigmaz()/2"
   ]
  },
  {
   "cell_type": "code",
   "execution_count": 10,
   "metadata": {},
   "outputs": [
    {
     "name": "stderr",
     "output_type": "stream",
     "text": [
      "Calculating Integrals ...:   0%|          | 0/9 [00:00<?, ?it/s]"
     ]
    },
    {
     "name": "stderr",
     "output_type": "stream",
     "text": [
      "Calculating Integrals ...: 100%|██████████| 9/9 [00:14<00:00,  1.60s/it]\n",
      "Calculating the generator ...: 100%|██████████| 9/9 [00:00<00:00, 2082.23it/s]\n",
      "Computing Exponential of Generators . . . .: 100%|██████████| 1000/1000 [00:00<00:00, 8779.80it/s]\n",
      "Calculating Integrals ...: 100%|██████████| 9/9 [00:14<00:00,  1.66s/it]\n",
      "Calculating the generator ...: 100%|██████████| 9/9 [00:00<00:00, 3042.78it/s]\n",
      "Computing Exponential of Generators . . . .: 100%|██████████| 1000/1000 [00:00<00:00, 8752.37it/s]\n",
      "Calculating Integrals ...: 100%|██████████| 9/9 [00:15<00:00,  1.67s/it]\n",
      "Calculating the generator ...: 100%|██████████| 9/9 [00:00<00:00, 3472.11it/s]\n",
      "Computing Exponential of Generators . . . .: 100%|██████████| 1000/1000 [00:00<00:00, 8450.98it/s]\n",
      "Calculating Integrals ...: 100%|██████████| 9/9 [00:13<00:00,  1.54s/it]\n",
      "Calculating the generator ...: 100%|██████████| 9/9 [00:00<00:00, 3176.17it/s]\n",
      "Computing Exponential of Generators . . . .: 100%|██████████| 1000/1000 [00:00<00:00, 8446.82it/s]\n",
      "Calculating Integrals ...: 100%|██████████| 9/9 [00:14<00:00,  1.58s/it]\n",
      "Calculating the generator ...: 100%|██████████| 9/9 [00:00<00:00, 3406.00it/s]\n",
      "Computing Exponential of Generators . . . .: 100%|██████████| 1000/1000 [00:00<00:00, 8946.15it/s]\n",
      "Calculating Integrals ...: 100%|██████████| 9/9 [00:14<00:00,  1.58s/it]\n",
      "Calculating the generator ...: 100%|██████████| 9/9 [00:00<00:00, 3251.12it/s]\n",
      "Computing Exponential of Generators . . . .: 100%|██████████| 1000/1000 [00:00<00:00, 8792.00it/s]\n",
      "Calculating Integrals ...: 100%|██████████| 9/9 [00:14<00:00,  1.59s/it]\n",
      "Calculating the generator ...: 100%|██████████| 9/9 [00:00<00:00, 3042.04it/s]\n",
      "Computing Exponential of Generators . . . .: 100%|██████████| 1000/1000 [00:00<00:00, 8299.95it/s]\n",
      "Calculating Integrals ...: 100%|██████████| 9/9 [00:15<00:00,  1.68s/it]\n",
      "Calculating the generator ...: 100%|██████████| 9/9 [00:00<00:00, 2063.22it/s]\n",
      "Computing Exponential of Generators . . . .: 100%|██████████| 1000/1000 [00:00<00:00, 8553.82it/s]"
     ]
    },
    {
     "name": "stdout",
     "output_type": "stream",
     "text": [
      "14.7 s ± 444 ms per loop (mean ± std. dev. of 7 runs, 1 loop each)\n"
     ]
    },
    {
     "name": "stderr",
     "output_type": "stream",
     "text": [
      "\n"
     ]
    }
   ],
   "source": [
    "%timeit w_cython=cc_c.evolution(rho0)"
   ]
  },
  {
   "cell_type": "code",
   "execution_count": 16,
   "metadata": {},
   "outputs": [
    {
     "name": "stderr",
     "output_type": "stream",
     "text": [
      "Calculating Integrals ...:   0%|          | 0/9 [00:00<?, ?it/s]/home/mcditoos/miniconda3/envs/nm/lib/python3.12/site-packages/scipy/integrate/_quadpack_py.py:446: IntegrationWarning: The maximum number of subdivisions (50) has been achieved.\n",
      "  If increasing the limit yields no improvement it is advised to analyze \n",
      "  the integrand in order to determine the difficulties.  If the position of a \n",
      "  local difficulty can be determined (singularity, discontinuity) one will \n",
      "  probably gain from splitting up the interval and calling the integrator \n",
      "  on the subranges.  Perhaps a special-purpose integrator should be used.\n",
      "  re_retval = quad(refunc, a, b, args, full_output, epsabs,\n",
      "Calculating Integrals ...:  11%|█         | 1/9 [00:01<00:15,  1.93s/it]/home/mcditoos/miniconda3/envs/nm/lib/python3.12/site-packages/scipy/integrate/_quadpack_py.py:449: IntegrationWarning: The maximum number of subdivisions (50) has been achieved.\n",
      "  If increasing the limit yields no improvement it is advised to analyze \n",
      "  the integrand in order to determine the difficulties.  If the position of a \n",
      "  local difficulty can be determined (singularity, discontinuity) one will \n",
      "  probably gain from splitting up the interval and calling the integrator \n",
      "  on the subranges.  Perhaps a special-purpose integrator should be used.\n",
      "  im_retval = quad(imfunc, a, b, args, full_output, epsabs,\n",
      "Calculating Integrals ...: 100%|██████████| 9/9 [00:16<00:00,  1.83s/it]\n",
      "Calculating the generator ...: 100%|██████████| 9/9 [00:00<00:00, 843.17it/s]\n",
      "Computing Exponential of Generators . . . .: 100%|██████████| 1000/1000 [00:00<00:00, 6656.24it/s]\n"
     ]
    }
   ],
   "source": [
    "w_cython=cc_c.evolution(rho0)"
   ]
  },
  {
   "cell_type": "code",
   "execution_count": 11,
   "metadata": {},
   "outputs": [
    {
     "name": "stderr",
     "output_type": "stream",
     "text": [
      "Calculating Integrals ...: 100%|██████████| 9/9 [02:50<00:00, 18.97s/it]\n",
      "Calculating the generator ...: 100%|██████████| 9/9 [00:00<00:00, 3317.70it/s]\n",
      "Computing Exponential of Generators . . . .: 100%|██████████| 1000/1000 [00:00<00:00, 9102.08it/s]\n",
      "Calculating Integrals ...: 100%|██████████| 9/9 [02:48<00:00, 18.74s/it]\n",
      "Calculating the generator ...: 100%|██████████| 9/9 [00:00<00:00, 3503.04it/s]\n",
      "Computing Exponential of Generators . . . .: 100%|██████████| 1000/1000 [00:00<00:00, 9063.98it/s]\n",
      "Calculating Integrals ...: 100%|██████████| 9/9 [02:45<00:00, 18.44s/it]\n",
      "Calculating the generator ...: 100%|██████████| 9/9 [00:00<00:00, 3505.31it/s]\n",
      "Computing Exponential of Generators . . . .: 100%|██████████| 1000/1000 [00:00<00:00, 9072.77it/s]\n",
      "Calculating Integrals ...: 100%|██████████| 9/9 [02:46<00:00, 18.47s/it]\n",
      "Calculating the generator ...: 100%|██████████| 9/9 [00:00<00:00, 3353.65it/s]\n",
      "Computing Exponential of Generators . . . .: 100%|██████████| 1000/1000 [00:00<00:00, 9157.47it/s]\n",
      "Calculating Integrals ...: 100%|██████████| 9/9 [02:46<00:00, 18.46s/it]\n",
      "Calculating the generator ...: 100%|██████████| 9/9 [00:00<00:00, 3142.85it/s]\n",
      "Computing Exponential of Generators . . . .: 100%|██████████| 1000/1000 [00:00<00:00, 9171.53it/s]\n",
      "Calculating Integrals ...: 100%|██████████| 9/9 [02:45<00:00, 18.41s/it]\n",
      "Calculating the generator ...: 100%|██████████| 9/9 [00:00<00:00, 3367.42it/s]\n",
      "Computing Exponential of Generators . . . .: 100%|██████████| 1000/1000 [00:00<00:00, 8466.64it/s]\n",
      "Calculating Integrals ...: 100%|██████████| 9/9 [02:45<00:00, 18.44s/it]\n",
      "Calculating the generator ...: 100%|██████████| 9/9 [00:00<00:00, 3301.16it/s]\n",
      "Computing Exponential of Generators . . . .: 100%|██████████| 1000/1000 [00:00<00:00, 8886.99it/s]\n",
      "Calculating Integrals ...: 100%|██████████| 9/9 [02:54<00:00, 19.35s/it]\n",
      "Calculating the generator ...: 100%|██████████| 9/9 [00:00<00:00, 3390.71it/s]\n",
      "Computing Exponential of Generators . . . .: 100%|██████████| 1000/1000 [00:00<00:00, 9042.61it/s]"
     ]
    },
    {
     "name": "stdout",
     "output_type": "stream",
     "text": [
      "2min 47s ± 2.86 s per loop (mean ± std. dev. of 7 runs, 1 loop each)\n"
     ]
    },
    {
     "name": "stderr",
     "output_type": "stream",
     "text": [
      "\n"
     ]
    }
   ],
   "source": [
    "%timeit with_cython=cc.evolution(rho0)"
   ]
  },
  {
   "cell_type": "code",
   "execution_count": 17,
   "metadata": {},
   "outputs": [
    {
     "name": "stderr",
     "output_type": "stream",
     "text": [
      "Calculating Integrals ...: 100%|██████████| 9/9 [03:21<00:00, 22.41s/it]\n",
      "Calculating the generator ...: 100%|██████████| 9/9 [00:00<00:00, 3063.77it/s]\n",
      "Computing Exponential of Generators . . . .: 100%|██████████| 1000/1000 [00:00<00:00, 7347.72it/s]\n"
     ]
    }
   ],
   "source": [
    "with_cython=cc.evolution(rho0)"
   ]
  },
  {
   "cell_type": "code",
   "execution_count": 20,
   "metadata": {},
   "outputs": [
    {
     "name": "stdout",
     "output_type": "stream",
     "text": [
      "The line_profiler extension is already loaded. To reload it, use:\n",
      "  %reload_ext line_profiler\n"
     ]
    }
   ],
   "source": [
    "%load_ext line_profiler"
   ]
  },
  {
   "cell_type": "code",
   "execution_count": 24,
   "metadata": {},
   "outputs": [
    {
     "name": "stderr",
     "output_type": "stream",
     "text": [
      "Calculating Integrals ...:   0%|          | 0/9 [00:00<?, ?it/s]/home/mcditoos/miniconda3/envs/nm/lib/python3.12/site-packages/scipy/integrate/_quadpack_py.py:446: IntegrationWarning: The maximum number of subdivisions (50) has been achieved.\n",
      "  If increasing the limit yields no improvement it is advised to analyze \n",
      "  the integrand in order to determine the difficulties.  If the position of a \n",
      "  local difficulty can be determined (singularity, discontinuity) one will \n",
      "  probably gain from splitting up the interval and calling the integrator \n",
      "  on the subranges.  Perhaps a special-purpose integrator should be used.\n",
      "  re_retval = quad(refunc, a, b, args, full_output, epsabs,\n",
      "Calculating Integrals ...:  11%|█         | 1/9 [00:02<00:19,  2.44s/it]/home/mcditoos/miniconda3/envs/nm/lib/python3.12/site-packages/scipy/integrate/_quadpack_py.py:449: IntegrationWarning: The maximum number of subdivisions (50) has been achieved.\n",
      "  If increasing the limit yields no improvement it is advised to analyze \n",
      "  the integrand in order to determine the difficulties.  If the position of a \n",
      "  local difficulty can be determined (singularity, discontinuity) one will \n",
      "  probably gain from splitting up the interval and calling the integrator \n",
      "  on the subranges.  Perhaps a special-purpose integrator should be used.\n",
      "  im_retval = quad(imfunc, a, b, args, full_output, epsabs,\n",
      "Calculating Integrals ...: 100%|██████████| 9/9 [00:21<00:00,  2.39s/it]\n",
      "Calculating the generator ...: 100%|██████████| 9/9 [00:00<00:00, 813.95it/s]\n"
     ]
    },
    {
     "name": "stdout",
     "output_type": "stream",
     "text": [
      "Timer unit: 1e-09 s\n",
      "\n",
      "Total time: 21.7329 s\n",
      "File: /home/mcditoos/github/NonMarkovianMethods/nmm/cumulant/cumulant.py\n",
      "Function: generator at line 142\n",
      "\n",
      "Line #      Hits         Time  Per Hit   % Time  Line Contents\n",
      "==============================================================\n",
      "   142                                               def generator(self, approximated=False):\n",
      "   143         1       3537.0   3537.0      0.0          if type(self.Hsys) != np.ndarray:\n",
      "   144         1     915913.0 915913.0      0.0              evals, all_state = self.Hsys.eigenstates()\n",
      "   145                                                   else:\n",
      "   146                                                       evals, all_state = np.linalg.eig(self.Hsys)\n",
      "   147                                                       all_state = [i.reshape((len(i), 1)) for i in all_state]\n",
      "   148         1        325.0    325.0      0.0          generators=[]\n",
      "   149         2       3195.0   1597.5      0.0          for Q,bath in zip(self.Qs,self.baths):\n",
      "   150         1        265.0    265.0      0.0              N = len(all_state)\n",
      "   151         1        152.0    152.0      0.0              collapse_list = []\n",
      "   152         1        142.0    142.0      0.0              ws = []\n",
      "   153         3       1209.0    403.0      0.0              for j in range(N):\n",
      "   154         3       1494.0    498.0      0.0                  for k in range(j + 1, N):\n",
      "   155         1       1572.0   1572.0      0.0                      Deltajk = evals[k] - evals[j]\n",
      "   156         1        272.0    272.0      0.0                      ws.append(Deltajk)\n",
      "   157         1        662.0    662.0      0.0                      if type(self.Hsys) != np.ndarray:\n",
      "   158         2        797.0    398.5      0.0                          collapse_list.append(\n",
      "   159                                                                       (\n",
      "   160         5      65075.0  13015.0      0.0                                  all_state[j]\n",
      "   161         1      17320.0  17320.0      0.0                                  * all_state[j].dag()\n",
      "   162         1        196.0    196.0      0.0                                  * Q\n",
      "   163         1        372.0    372.0      0.0                                  * all_state[k]\n",
      "   164         1      11867.0  11867.0      0.0                                  * all_state[k].dag()\n",
      "   165                                                                       )\n",
      "   166                                                                   )  # emission\n",
      "   167         1        637.0    637.0      0.0                          ws.append(-Deltajk)\n",
      "   168         2        560.0    280.0      0.0                          collapse_list.append(\n",
      "   169                                                                       (\n",
      "   170         5      59524.0  11904.8      0.0                                  all_state[k]\n",
      "   171         1      18432.0  18432.0      0.0                                  * all_state[k].dag()\n",
      "   172         1        170.0    170.0      0.0                                  * Q\n",
      "   173         1        399.0    399.0      0.0                                  * all_state[j]\n",
      "   174         1      27315.0  27315.0      0.0                                  * all_state[j].dag()\n",
      "   175                                                                       )\n",
      "   176                                                                   )  # absorption\n",
      "   177                                                               else:\n",
      "   178                                                                   collapse_list.append(\n",
      "   179                                                                       (\n",
      "   180                                                                           all_state[j]\n",
      "   181                                                                           @ np.conjugate(all_state[j]).T\n",
      "   182                                                                           @ Q\n",
      "   183                                                                           @ all_state[k]\n",
      "   184                                                                           @ np.conjugate(all_state[k]).T\n",
      "   185                                                                       )\n",
      "   186                                                                   )  # emission\n",
      "   187                                                                   ws.append(Deltajk)\n",
      "   188                                                                   collapse_list.append(\n",
      "   189                                                                       (\n",
      "   190                                                                           all_state[k]\n",
      "   191                                                                           @ np.conjugate(all_state[k]).T\n",
      "   192                                                                           @ Q\n",
      "   193                                                                           @ all_state[j]\n",
      "   194                                                                           @ np.conjugate(all_state[j]).T\n",
      "   195                                                                       )\n",
      "   196                                                                   )  # absorption\n",
      "   197         1      83429.0  83429.0      0.0              collapse_list.append(Q - sum(collapse_list))  # Dephasing\n",
      "   198         1        265.0    265.0      0.0              ws.append(0)\n",
      "   199         1       1472.0   1472.0      0.0              output = defaultdict(list)\n",
      "   200         4       1901.0    475.2      0.0              for k,key in enumerate(ws):\n",
      "   201         3       2529.0    843.0      0.0                  output[key].append(collapse_list[k])\n",
      "   202         4      20700.0   5175.0      0.0              eldict={x:sum(y) for x, y in output.items()}\n",
      "   203         1        163.0    163.0      0.0              dictrem = {}\n",
      "   204         1        313.0    313.0      0.0              if _qutip:\n",
      "   205         1      54635.0  54635.0      0.0                  empty = Qobj([[0]*N]*N)\n",
      "   206         4      15598.0   3899.5      0.0                  for keys, values in eldict.items():\n",
      "   207         3      35694.0  11898.0      0.0                      if (values != empty):\n",
      "   208         3       1493.0    497.7      0.0                          dictrem[keys] = values\n",
      "   209                                                       else:\n",
      "   210                                                           empty = np.array([[0]*N]*N)\n",
      "   211                                                           for keys, values in eldict.items():\n",
      "   212                                                               if (values != empty).any():\n",
      "   213                                                                   dictrem[keys] = values\n",
      "   214         1       1948.0   1948.0      0.0              ws = list(dictrem.keys())\n",
      "   215         1        371.0    371.0      0.0              eldict = dictrem\n",
      "   216         1       2734.0   2734.0      0.0              combinations = list(itertools.product(ws, ws))\n",
      "   217         1        188.0    188.0      0.0              decays = []\n",
      "   218         1        157.0    157.0      0.0              matrixform = []\n",
      "   219         1        170.0    170.0      0.0              rates = {}\n",
      "   220         1        145.0    145.0      0.0              done = []\n",
      "   221        10   11480099.0    1e+06      0.1              for i in tqdm(combinations, desc='Calculating Integrals ...'):\n",
      "   222         9       9496.0   1055.1      0.0                  done.append(i)\n",
      "   223         9       6316.0    701.8      0.0                  j = (i[1], i[0])\n",
      "   224         9      24602.0   2733.6      0.0                  if (j in done) & (i != j):\n",
      "   225         3     418302.0 139434.0      0.0                      rates[i] = np.conjugate(rates[j])\n",
      "   226                                                           else:\n",
      "   227         6       8336.0   1389.3      0.0                      if _qutip:\n",
      "   228         6     496083.0  82680.5      0.0                          if (eldict[i[0]]==empty) or (eldict[i[1]]==empty):\n",
      "   229                                                                       rates[i]=np.zeros(self.t.shape)\n",
      "   230                                                                   else:\n",
      "   231        12        2e+10    2e+09     99.1                              rates[i] = self.Γgen(bath,i[0], i[1], self.t,\n",
      "   232         6       1598.0    266.3      0.0                                                   approximated)\n",
      "   233                                                               else:\n",
      "   234                                                                   if (eldict[i[0]]==empty).all() or (eldict[i[1]]==empty).all():\n",
      "   235                                                                       rates[i]=np.zeros(self.t.shape)\n",
      "   236                                                                   else:\n",
      "   237                                                                       rates[i] = self.Γgen(bath,i[0], i[1], self.t,\n",
      "   238                                                                                            approximated)\n",
      "   239                                                                       \n",
      "   240                                           \n",
      "   241        10    4497838.0 449783.8      0.0              for i in tqdm(combinations, desc='Calculating the generator ...'):\n",
      "   242         9       8933.0    992.6      0.0                  decays.append(rates[i])\n",
      "   243         9       8184.0    909.3      0.0                  if _qutip is False:\n",
      "   244                                                               matrixform.append(\n",
      "   245                                                                   (spre(eldict[i[1]]) * spost(\n",
      "   246                                                                       np.conjugate(eldict[i[0]]).T) -\n",
      "   247                                                                   ((spre(np.conjugate(eldict[i[0]]).T @ eldict[i[1]]) +\n",
      "   248                                                                   spost(np.conjugate(eldict[i[0]]).T @ eldict[i[1]])\n",
      "   249                                                                   )*0.5)))\n",
      "   250                                                           else:\n",
      "   251        18      12363.0    686.8      0.0                      matrixform.append(\n",
      "   252        18    5016479.0 278693.3      0.0                          (spre(eldict[i[1]]) * spost(eldict[i[0]].dag()) -\n",
      "   253        18     198518.0  11028.8      0.0                          (0.5 *\n",
      "   254        18    4955900.0 275327.8      0.0                          (spre(eldict[i[0]].dag() * eldict[i[1]]) + spost(\n",
      "   255         9     453140.0  50348.9      0.0                              eldict[i[0]].dag() * eldict[i[1]])))))\n",
      "   256         1        478.0    478.0      0.0              ll = []\n",
      "   257         1        322.0    322.0      0.0              superop = []\n",
      "   258      1001     406658.0    406.3      0.0              for l in range(len(self.t)):\n",
      "   259      1000     450289.0    450.3      0.0                  if _qutip:\n",
      "   260     19000   78961418.0   4155.9      0.4                      ll = [matrixform[j]*decays[j][l]\n",
      "   261     10000    2604938.0    260.5      0.0                          for j in range(len(combinations))]\n",
      "   262      1000   79729661.0  79729.7      0.4                      superop.append(sum(ll))\n",
      "   263                                                           else:\n",
      "   264                                                               ll = [matrixform[j].right*decays[j][l]\n",
      "   265                                                                   for j in range(len(combinations))]\n",
      "   266                                                               superop.append(sum(ll))\n",
      "   267      1000    1409221.0   1409.2      0.0                  ll = []\n",
      "   268         1      13243.0  13243.0      0.0              generators.extend(superop)\n",
      "   269         1     191323.0 191323.0      0.0          self.generators=self._reformat(generators)"
     ]
    }
   ],
   "source": [
    "%lprun -f cc_c.generator w_cython=cc_c.generator()"
   ]
  },
  {
   "cell_type": "code",
   "execution_count": 13,
   "metadata": {},
   "outputs": [],
   "source": [
    "def population(den, a, b):\n",
    "    return [den[i][a, b] for i in range(len(den))]"
   ]
  },
  {
   "cell_type": "code",
   "execution_count": 14,
   "metadata": {},
   "outputs": [],
   "source": [
    "import matplotlib.pyplot as plt"
   ]
  },
  {
   "cell_type": "code",
   "execution_count": 18,
   "metadata": {},
   "outputs": [
    {
     "data": {
      "text/plain": [
       "[<matplotlib.lines.Line2D at 0x7189ea8658b0>]"
      ]
     },
     "execution_count": 18,
     "metadata": {},
     "output_type": "execute_result"
    },
    {
     "data": {
      "image/png": "[encoded data removed]",
      "text/plain": [
       "<Figure size 640x480 with 1 Axes>"
      ]
     },
     "metadata": {},
     "output_type": "display_data"
    }
   ],
   "source": [
    "i,j=0,0\n",
    "plt.plot(t,np.abs(population(w_cython,i,j)))\n",
    "plt.plot(t,np.abs(population(with_cython,i,j)),\"-.\")"
   ]
  },
  {
   "cell_type": "code",
   "execution_count": null,
   "metadata": {},
   "outputs": [],
   "source": []
  },
  {
   "cell_type": "code",
   "execution_count": null,
   "metadata": {},
   "outputs": [],
   "source": []
  },
  {
   "cell_type": "code",
   "execution_count": 31,
   "metadata": {},
   "outputs": [],
   "source": [
    "import sys\n",
    "import numpy as np\n",
    "from numba import jit\n",
    "\n",
    "\n",
    "\n",
    "\n",
    "\n",
    "class SemiInfiniteFunc:\n",
    "    \"\"\"\n",
    "    Argument transform from (start, +-oo) to (0, 1)\n",
    "    \"\"\"\n",
    "    def __init__(self, func, start, infty):\n",
    "        self._func = func\n",
    "        self._start = start\n",
    "        self._sgn = -1 if infty < 0 else 1\n",
    "        # Overflow threshold for the 1/t**2 factor\n",
    "        self._tmin = sys.float_info.min**0.5\n",
    "\n",
    "    def get_t(self, x):\n",
    "        z = self._sgn * (x - self._start) + 1\n",
    "        if z == 0:\n",
    "            # Can happen only if point not in range\n",
    "            return np.inf\n",
    "        return 1 / z\n",
    "\n",
    "    def __call__(self, t):\n",
    "        if t < self._tmin:\n",
    "            return 0.0\n",
    "        else:\n",
    "            x = self._start + self._sgn * (1 - t) / t\n",
    "            f = self._func(x)\n",
    "            return self._sgn * (f / t) / t\n",
    "\n",
    "\n",
    "\n",
    "\n",
    "def _quadrature_gk(a, b, f, norm_func, x, w, v):\n",
    "    \"\"\"\n",
    "    Generic Gauss-Kronrod quadrature\n",
    "    \"\"\"\n",
    "\n",
    "    fv = [0.0]*len(x)\n",
    "\n",
    "    c = 0.5 * (a + b)\n",
    "    h = 0.5 * (b - a)\n",
    "\n",
    "    # Gauss-Kronrod\n",
    "    s_k = 0.0\n",
    "    s_k_abs = 0.0\n",
    "    for i in range(len(x)):\n",
    "        ff = f(c + h*x[i])\n",
    "        fv[i] = ff\n",
    "\n",
    "        vv = v[i]\n",
    "\n",
    "        # \\int f(x)\n",
    "        s_k += vv * ff\n",
    "        # \\int |f(x)|\n",
    "        s_k_abs += vv * abs(ff)\n",
    "\n",
    "    # Gauss\n",
    "    s_g = 0.0\n",
    "    for i in range(len(w)):\n",
    "        s_g += w[i] * fv[2*i + 1]\n",
    "\n",
    "    # Quadrature of abs-deviation from average\n",
    "    s_k_dabs = 0.0\n",
    "    y0 = s_k / 2.0\n",
    "    for i in range(len(x)):\n",
    "        # \\int |f(x) - y0|\n",
    "        s_k_dabs += v[i] * abs(fv[i] - y0)\n",
    "\n",
    "    # Use similar error estimation as quadpack\n",
    "    err = float(norm_func((s_k - s_g) * h))\n",
    "    dabs = float(norm_func(s_k_dabs * h))\n",
    "    if dabs != 0 and err != 0:\n",
    "        err = dabs * min(1.0, (200 * err / dabs)**1.5)\n",
    "\n",
    "    eps = sys.float_info.epsilon\n",
    "    round_err = float(norm_func(50 * eps * h * s_k_abs))\n",
    "\n",
    "    if round_err > sys.float_info.min:\n",
    "        err = max(err, round_err)\n",
    "\n",
    "    return h * s_k, err, round_err\n",
    "\n",
    "\n",
    "def _quadrature_gk15(a, b, f, norm_func):\n",
    "    \"\"\"\n",
    "    Gauss-Kronrod 15 quadrature with error estimate\n",
    "    \"\"\"\n",
    "    # Gauss-Kronrod points\n",
    "    x = (0.991455371120812639206854697526329,\n",
    "         0.949107912342758524526189684047851,\n",
    "         0.864864423359769072789712788640926,\n",
    "         0.741531185599394439863864773280788,\n",
    "         0.586087235467691130294144838258730,\n",
    "         0.405845151377397166906606412076961,\n",
    "         0.207784955007898467600689403773245,\n",
    "         0.000000000000000000000000000000000,\n",
    "         -0.207784955007898467600689403773245,\n",
    "         -0.405845151377397166906606412076961,\n",
    "         -0.586087235467691130294144838258730,\n",
    "         -0.741531185599394439863864773280788,\n",
    "         -0.864864423359769072789712788640926,\n",
    "         -0.949107912342758524526189684047851,\n",
    "         -0.991455371120812639206854697526329)\n",
    "\n",
    "    # 7-point weights\n",
    "    w = (0.129484966168869693270611432679082,\n",
    "         0.279705391489276667901467771423780,\n",
    "         0.381830050505118944950369775488975,\n",
    "         0.417959183673469387755102040816327,\n",
    "         0.381830050505118944950369775488975,\n",
    "         0.279705391489276667901467771423780,\n",
    "         0.129484966168869693270611432679082)\n",
    "\n",
    "    # 15-point weights\n",
    "    v = (0.022935322010529224963732008058970,\n",
    "         0.063092092629978553290700663189204,\n",
    "         0.104790010322250183839876322541518,\n",
    "         0.140653259715525918745189590510238,\n",
    "         0.169004726639267902826583426598550,\n",
    "         0.190350578064785409913256402421014,\n",
    "         0.204432940075298892414161999234649,\n",
    "         0.209482141084727828012999174891714,\n",
    "         0.204432940075298892414161999234649,\n",
    "         0.190350578064785409913256402421014,\n",
    "         0.169004726639267902826583426598550,\n",
    "         0.140653259715525918745189590510238,\n",
    "         0.104790010322250183839876322541518,\n",
    "         0.063092092629978553290700663189204,\n",
    "         0.022935322010529224963732008058970)\n",
    "\n",
    "    return _quadrature_gk(a, b, f, norm_func, x, w, v)\n",
    "\n",
    "\n",
    "def _quadrature_gk21(a, b, f, norm_func):\n",
    "    \"\"\"\n",
    "    Gauss-Kronrod 21 quadrature with error estimate\n",
    "    \"\"\"\n",
    "    # Gauss-Kronrod points\n",
    "    x = (0.995657163025808080735527280689003,\n",
    "         0.973906528517171720077964012084452,\n",
    "         0.930157491355708226001207180059508,\n",
    "         0.865063366688984510732096688423493,\n",
    "         0.780817726586416897063717578345042,\n",
    "         0.679409568299024406234327365114874,\n",
    "         0.562757134668604683339000099272694,\n",
    "         0.433395394129247190799265943165784,\n",
    "         0.294392862701460198131126603103866,\n",
    "         0.148874338981631210884826001129720,\n",
    "         0,\n",
    "         -0.148874338981631210884826001129720,\n",
    "         -0.294392862701460198131126603103866,\n",
    "         -0.433395394129247190799265943165784,\n",
    "         -0.562757134668604683339000099272694,\n",
    "         -0.679409568299024406234327365114874,\n",
    "         -0.780817726586416897063717578345042,\n",
    "         -0.865063366688984510732096688423493,\n",
    "         -0.930157491355708226001207180059508,\n",
    "         -0.973906528517171720077964012084452,\n",
    "         -0.995657163025808080735527280689003)\n",
    "\n",
    "    # 10-point weights\n",
    "    w = (0.066671344308688137593568809893332,\n",
    "         0.149451349150580593145776339657697,\n",
    "         0.219086362515982043995534934228163,\n",
    "         0.269266719309996355091226921569469,\n",
    "         0.295524224714752870173892994651338,\n",
    "         0.295524224714752870173892994651338,\n",
    "         0.269266719309996355091226921569469,\n",
    "         0.219086362515982043995534934228163,\n",
    "         0.149451349150580593145776339657697,\n",
    "         0.066671344308688137593568809893332)\n",
    "\n",
    "    # 21-point weights\n",
    "    v = (0.011694638867371874278064396062192,\n",
    "         0.032558162307964727478818972459390,\n",
    "         0.054755896574351996031381300244580,\n",
    "         0.075039674810919952767043140916190,\n",
    "         0.093125454583697605535065465083366,\n",
    "         0.109387158802297641899210590325805,\n",
    "         0.123491976262065851077958109831074,\n",
    "         0.134709217311473325928054001771707,\n",
    "         0.142775938577060080797094273138717,\n",
    "         0.147739104901338491374841515972068,\n",
    "         0.149445554002916905664936468389821,\n",
    "         0.147739104901338491374841515972068,\n",
    "         0.142775938577060080797094273138717,\n",
    "         0.134709217311473325928054001771707,\n",
    "         0.123491976262065851077958109831074,\n",
    "         0.109387158802297641899210590325805,\n",
    "         0.093125454583697605535065465083366,\n",
    "         0.075039674810919952767043140916190,\n",
    "         0.054755896574351996031381300244580,\n",
    "         0.032558162307964727478818972459390,\n",
    "         0.011694638867371874278064396062192)\n",
    "\n",
    "    return _quadrature_gk(a, b, f, norm_func, x, w, v)\n",
    "\n",
    "\n",
    "def _gauss_kron(f,a,b,tol=1e-6):\n",
    "    integral,err,rnd=_quadrature_gk15(a,b,f,np.linalg.norm)  \n",
    "    if abs(err)<tol:\n",
    "        q= integral\n",
    "    else:\n",
    "        c=(a+b)/2\n",
    "        qa= _gauss_kron(f,a,c,tol)\n",
    "        qb=_gauss_kron(f,c,b,tol)   \n",
    "        q=qa+qb \n",
    "    return q\n",
    "\n",
    "def gauss_kron(f,a,b,tol=1e-6,args=()):\n",
    "    func= lambda x: f(x,*args)\n",
    "    if (a==0) and (b ==np.infty):\n",
    "        func2=SemiInfiniteFunc(func,0,np.infty)\n",
    "        b=1\n",
    "    return _gauss_kron(func2,a,b,tol)\n",
    "\n",
    "def quad_gauss(f,a,b,tol=1e-6,args=()):\n",
    "    if isinstance(args[-1],np.ndarray):\n",
    "        params=args[:-1]\n",
    "        return [gauss_kron(f,a,b,tol,args=(*params,i)) for i in args[-1]]\n",
    "    else:\n",
    "        return gauss_kron(f,a,b,tol,args=args)"
   ]
  },
  {
   "cell_type": "code",
   "execution_count": 26,
   "metadata": {},
   "outputs": [],
   "source": [
    "import functools"
   ]
  },
  {
   "cell_type": "code",
   "execution_count": 157,
   "metadata": {},
   "outputs": [
    {
     "name": "stdout",
     "output_type": "stream",
     "text": [
      "Help on method _gamma in module nmm.cumulant.cum:\n",
      "\n",
      "_gamma(nu: 'cython.float', w: 'cython.float', w1: 'cython.float', t: 'cython.float') method of nmm.cumulant.cum.csolve instance\n",
      "\n"
     ]
    }
   ],
   "source": [
    "help(cc_c._gamma)"
   ]
  },
  {
   "cell_type": "code",
   "execution_count": null,
   "metadata": {},
   "outputs": [],
   "source": []
  }
 ],
 "metadata": {
  "kernelspec": {
   "display_name": "qutip-dev",
   "language": "python",
   "name": "python3"
  },
  "language_info": {
   "codemirror_mode": {
    "name": "ipython",
    "version": 3
   },
   "file_extension": ".py",
   "mimetype": "text/x-python",
   "name": "python",
   "nbconvert_exporter": "python",
   "pygments_lexer": "ipython3",
   "version": "3.12.2"
  }
 },
 "nbformat": 4,
 "nbformat_minor": 2
}
