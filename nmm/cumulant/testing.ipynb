{
 "cells": [
  {
   "cell_type": "code",
   "execution_count": 1,
   "metadata": {},
   "outputs": [],
   "source": [
    "import nmm\n",
    "import jax.numpy as jnp\n",
    "from nmm.utils import Qobj as jax_Qobj"
   ]
  },
  {
   "cell_type": "code",
   "execution_count": 34,
   "metadata": {},
   "outputs": [],
   "source": [
    "bath=nmm.OverdampedBath(coupling=0.05,cutoff=5,T=2)"
   ]
  },
  {
   "cell_type": "code",
   "execution_count": 35,
   "metadata": {},
   "outputs": [],
   "source": [
    "t=jnp.linspace(0,10,100)"
   ]
  },
  {
   "cell_type": "code",
   "execution_count": 36,
   "metadata": {},
   "outputs": [],
   "source": [
    "sp=jax_Qobj(jnp.array([[0,0],[1,0]]))\n",
    "sm=jax_Qobj(jnp.array([[0,1],[0,0]]))\n",
    "sz=jax_Qobj(jnp.array([[1,0],[0,-1]]))\n",
    "sx=sm+sp\n",
    "rho0=jax_Qobj(jnp.array([[1,1],[1,1]]))*0.5"
   ]
  },
  {
   "cell_type": "code",
   "execution_count": 37,
   "metadata": {},
   "outputs": [],
   "source": [
    "cc=nmm.cumulant.csolve(Hsys=sz*0.5,baths=[bath],t=t,Qs=[sz],eps=1e-6,cython=True,limit=1000)"
   ]
  },
  {
   "cell_type": "code",
   "execution_count": 38,
   "metadata": {},
   "outputs": [
    {
     "name": "stderr",
     "output_type": "stream",
     "text": [
      "Calculating the generator Matrix ...: 100%|██████████| 1/1 [00:00<00:00, 504.85it/s]\n",
      "Calculating Integrals ...: 100%|██████████| 1/1 [00:00<00:00,  1.33it/s]\n",
      "Computing Exponential of Generators . . . .: 100%|██████████| 100/100 [00:00<00:00, 781.24it/s]\n"
     ]
    }
   ],
   "source": [
    "rho=cc.evolution(rho0,False)"
   ]
  },
  {
   "cell_type": "code",
   "execution_count": 39,
   "metadata": {},
   "outputs": [],
   "source": [
    "def rotation(self,states):\n",
    "        t=self.t.tolist()\n",
    "        return [(-1j*self.Hsys*t[i]).expm()*states[i]*\n",
    "                (1j*self.Hsys*t[i]).expm() for i in range(len(self.t))]"
   ]
  },
  {
   "cell_type": "code",
   "execution_count": 40,
   "metadata": {},
   "outputs": [],
   "source": [
    "rho=rotation(cc,rho)"
   ]
  },
  {
   "cell_type": "code",
   "execution_count": 41,
   "metadata": {},
   "outputs": [],
   "source": [
    "import matplotlib.pyplot as plt"
   ]
  },
  {
   "cell_type": "code",
   "execution_count": 42,
   "metadata": {},
   "outputs": [],
   "source": [
    "def population(s,i,j):\n",
    "    return [l.data[i,j].item() for l in s]"
   ]
  },
  {
   "cell_type": "code",
   "execution_count": 43,
   "metadata": {},
   "outputs": [],
   "source": [
    "from qutip import sigmax,sigmaz,Qobj,expect\n",
    "import numpy as np"
   ]
  },
  {
   "cell_type": "code",
   "execution_count": 44,
   "metadata": {},
   "outputs": [],
   "source": [
    "t2=np.linspace(0,10,100)"
   ]
  },
  {
   "cell_type": "code",
   "execution_count": 45,
   "metadata": {},
   "outputs": [],
   "source": [
    "cc=nmm.cumulant.csolve(Hsys=sigmaz()/2,baths=[bath],t=t2,Qs=[sigmaz()],eps=1e-6,cython=True,limit=1000)"
   ]
  },
  {
   "cell_type": "code",
   "execution_count": 46,
   "metadata": {},
   "outputs": [],
   "source": [
    "rho02=Qobj(np.array([[1,1],[1,1]]))*0.5"
   ]
  },
  {
   "cell_type": "code",
   "execution_count": 47,
   "metadata": {},
   "outputs": [
    {
     "name": "stderr",
     "output_type": "stream",
     "text": [
      "Calculating the generator Matrix ...: 100%|██████████| 1/1 [00:00<00:00, 910.42it/s]\n",
      "Calculating Integrals ...: 100%|██████████| 1/1 [00:00<00:00,  1.05it/s]\n",
      "Computing Exponential of Generators . . . .: 100%|██████████| 100/100 [00:00<00:00, 12886.91it/s]\n"
     ]
    }
   ],
   "source": [
    "rho2=cc.evolution(rho02,False)"
   ]
  },
  {
   "cell_type": "code",
   "execution_count": 48,
   "metadata": {},
   "outputs": [],
   "source": [
    "rho2=rotation(cc,rho2)"
   ]
  },
  {
   "cell_type": "code",
   "execution_count": 49,
   "metadata": {},
   "outputs": [],
   "source": [
    "from qutip.solver.heom import DrudeLorentzBath,HEOMSolver"
   ]
  },
  {
   "cell_type": "code",
   "execution_count": 50,
   "metadata": {},
   "outputs": [],
   "source": [
    "bath=DrudeLorentzBath(sigmaz(),lam=0.05*np.pi,gamma=5,T=2,Nk=11)"
   ]
  },
  {
   "cell_type": "code",
   "execution_count": 51,
   "metadata": {},
   "outputs": [
    {
     "name": "stdout",
     "output_type": "stream",
     "text": [
      "10.1%. Run time:   1.59s. Est. time left: 00:00:00:14\n",
      "20.2%. Run time:   3.27s. Est. time left: 00:00:00:12\n",
      "30.3%. Run time:   4.95s. Est. time left: 00:00:00:11\n",
      "40.4%. Run time:   6.66s. Est. time left: 00:00:00:09\n",
      "50.5%. Run time:   8.49s. Est. time left: 00:00:00:08\n",
      "60.6%. Run time:  10.27s. Est. time left: 00:00:00:06\n",
      "70.7%. Run time:  12.04s. Est. time left: 00:00:00:04\n",
      "80.8%. Run time:  13.90s. Est. time left: 00:00:00:03\n",
      "90.9%. Run time:  15.72s. Est. time left: 00:00:00:01\n",
      "100.0%. Run time:  17.16s. Est. time left: 00:00:00:00\n",
      "Total run time:  17.17s\n"
     ]
    }
   ],
   "source": [
    "solver=HEOMSolver(H=sigmaz()/2,bath=bath,max_depth=5)\n",
    "ans=solver.run(rho02,t2)"
   ]
  },
  {
   "cell_type": "code",
   "execution_count": 52,
   "metadata": {},
   "outputs": [
    {
     "name": "stderr",
     "output_type": "stream",
     "text": [
      "/home/mcditoos/anaconda3/envs/cumulant/lib/python3.12/site-packages/matplotlib/cbook.py:1699: ComplexWarning: Casting complex values to real discards the imaginary part\n",
      "  return math.isfinite(val)\n",
      "/home/mcditoos/anaconda3/envs/cumulant/lib/python3.12/site-packages/matplotlib/cbook.py:1345: ComplexWarning: Casting complex values to real discards the imaginary part\n",
      "  return np.asarray(x, float)\n"
     ]
    },
    {
     "data": {
      "image/png": "[encoded data removed]",
      "text/plain": [
       "<Figure size 640x480 with 1 Axes>"
      ]
     },
     "metadata": {},
     "output_type": "display_data"
    }
   ],
   "source": [
    "plt.plot(t,population(rho,0,1))\n",
    "plt.plot(t,expect(rho2,sigmax())/2,'-.')\n",
    "plt.plot(t,expect(ans.states,sigmax())/2,'-.')\n",
    "plt.show()"
   ]
  },
  {
   "cell_type": "code",
   "execution_count": 22,
   "metadata": {},
   "outputs": [
    {
     "ename": "ModuleNotFoundError",
     "evalue": "No module named 'numba'",
     "output_type": "error",
     "traceback": [
      "\u001b[0;31m---------------------------------------------------------------------------\u001b[0m",
      "\u001b[0;31mModuleNotFoundError\u001b[0m                       Traceback (most recent call last)",
      "Cell \u001b[0;32mIn[22], line 3\u001b[0m\n\u001b[1;32m      1\u001b[0m \u001b[38;5;28;01mimport\u001b[39;00m \u001b[38;5;21;01msys\u001b[39;00m\n\u001b[1;32m      2\u001b[0m \u001b[38;5;28;01mimport\u001b[39;00m \u001b[38;5;21;01mnumpy\u001b[39;00m \u001b[38;5;28;01mas\u001b[39;00m \u001b[38;5;21;01mnp\u001b[39;00m\n\u001b[0;32m----> 3\u001b[0m \u001b[38;5;28;01mfrom\u001b[39;00m \u001b[38;5;21;01mnumba\u001b[39;00m \u001b[38;5;28;01mimport\u001b[39;00m jit\n\u001b[1;32m      9\u001b[0m \u001b[38;5;28;01mclass\u001b[39;00m \u001b[38;5;21;01mSemiInfiniteFunc\u001b[39;00m:\n\u001b[1;32m     10\u001b[0m \u001b[38;5;250m    \u001b[39m\u001b[38;5;124;03m\"\"\"\u001b[39;00m\n\u001b[1;32m     11\u001b[0m \u001b[38;5;124;03m    Argument transform from (start, +-oo) to (0, 1)\u001b[39;00m\n\u001b[1;32m     12\u001b[0m \u001b[38;5;124;03m    \"\"\"\u001b[39;00m\n",
      "\u001b[0;31mModuleNotFoundError\u001b[0m: No module named 'numba'"
     ]
    }
   ],
   "source": [
    "import sys\n",
    "import numpy as np\n",
    "from numba import jit\n",
    "\n",
    "\n",
    "\n",
    "\n",
    "\n",
    "class SemiInfiniteFunc:\n",
    "    \"\"\"\n",
    "    Argument transform from (start, +-oo) to (0, 1)\n",
    "    \"\"\"\n",
    "    def __init__(self, func, start, infty):\n",
    "        self._func = func\n",
    "        self._start = start\n",
    "        self._sgn = -1 if infty < 0 else 1\n",
    "        # Overflow threshold for the 1/t**2 factor\n",
    "        self._tmin = sys.float_info.min**0.5\n",
    "\n",
    "    def get_t(self, x):\n",
    "        z = self._sgn * (x - self._start) + 1\n",
    "        if z == 0:\n",
    "            # Can happen only if point not in range\n",
    "            return np.inf\n",
    "        return 1 / z\n",
    "\n",
    "    def __call__(self, t):\n",
    "        if t < self._tmin:\n",
    "            return 0.0\n",
    "        else:\n",
    "            x = self._start + self._sgn * (1 - t) / t\n",
    "            f = self._func(x)\n",
    "            return self._sgn * (f / t) / t\n",
    "\n",
    "\n",
    "\n",
    "\n",
    "def _quadrature_gk(a, b, f, norm_func, x, w, v):\n",
    "    \"\"\"\n",
    "    Generic Gauss-Kronrod quadrature\n",
    "    \"\"\"\n",
    "\n",
    "    fv = [0.0]*len(x)\n",
    "\n",
    "    c = 0.5 * (a + b)\n",
    "    h = 0.5 * (b - a)\n",
    "\n",
    "    # Gauss-Kronrod\n",
    "    s_k = 0.0\n",
    "    s_k_abs = 0.0\n",
    "    for i in range(len(x)):\n",
    "        ff = f(c + h*x[i])\n",
    "        fv[i] = ff\n",
    "\n",
    "        vv = v[i]\n",
    "\n",
    "        # \\int f(x)\n",
    "        s_k += vv * ff\n",
    "        # \\int |f(x)|\n",
    "        s_k_abs += vv * abs(ff)\n",
    "\n",
    "    # Gauss\n",
    "    s_g = 0.0\n",
    "    for i in range(len(w)):\n",
    "        s_g += w[i] * fv[2*i + 1]\n",
    "\n",
    "    # Quadrature of abs-deviation from average\n",
    "    s_k_dabs = 0.0\n",
    "    y0 = s_k / 2.0\n",
    "    for i in range(len(x)):\n",
    "        # \\int |f(x) - y0|\n",
    "        s_k_dabs += v[i] * abs(fv[i] - y0)\n",
    "\n",
    "    # Use similar error estimation as quadpack\n",
    "    err = float(norm_func((s_k - s_g) * h))\n",
    "    dabs = float(norm_func(s_k_dabs * h))\n",
    "    if dabs != 0 and err != 0:\n",
    "        err = dabs * min(1.0, (200 * err / dabs)**1.5)\n",
    "\n",
    "    eps = sys.float_info.epsilon\n",
    "    round_err = float(norm_func(50 * eps * h * s_k_abs))\n",
    "\n",
    "    if round_err > sys.float_info.min:\n",
    "        err = max(err, round_err)\n",
    "\n",
    "    return h * s_k, err, round_err\n",
    "\n",
    "\n",
    "def _quadrature_gk15(a, b, f, norm_func):\n",
    "    \"\"\"\n",
    "    Gauss-Kronrod 15 quadrature with error estimate\n",
    "    \"\"\"\n",
    "    # Gauss-Kronrod points\n",
    "    x = (0.991455371120812639206854697526329,\n",
    "         0.949107912342758524526189684047851,\n",
    "         0.864864423359769072789712788640926,\n",
    "         0.741531185599394439863864773280788,\n",
    "         0.586087235467691130294144838258730,\n",
    "         0.405845151377397166906606412076961,\n",
    "         0.207784955007898467600689403773245,\n",
    "         0.000000000000000000000000000000000,\n",
    "         -0.207784955007898467600689403773245,\n",
    "         -0.405845151377397166906606412076961,\n",
    "         -0.586087235467691130294144838258730,\n",
    "         -0.741531185599394439863864773280788,\n",
    "         -0.864864423359769072789712788640926,\n",
    "         -0.949107912342758524526189684047851,\n",
    "         -0.991455371120812639206854697526329)\n",
    "\n",
    "    # 7-point weights\n",
    "    w = (0.129484966168869693270611432679082,\n",
    "         0.279705391489276667901467771423780,\n",
    "         0.381830050505118944950369775488975,\n",
    "         0.417959183673469387755102040816327,\n",
    "         0.381830050505118944950369775488975,\n",
    "         0.279705391489276667901467771423780,\n",
    "         0.129484966168869693270611432679082)\n",
    "\n",
    "    # 15-point weights\n",
    "    v = (0.022935322010529224963732008058970,\n",
    "         0.063092092629978553290700663189204,\n",
    "         0.104790010322250183839876322541518,\n",
    "         0.140653259715525918745189590510238,\n",
    "         0.169004726639267902826583426598550,\n",
    "         0.190350578064785409913256402421014,\n",
    "         0.204432940075298892414161999234649,\n",
    "         0.209482141084727828012999174891714,\n",
    "         0.204432940075298892414161999234649,\n",
    "         0.190350578064785409913256402421014,\n",
    "         0.169004726639267902826583426598550,\n",
    "         0.140653259715525918745189590510238,\n",
    "         0.104790010322250183839876322541518,\n",
    "         0.063092092629978553290700663189204,\n",
    "         0.022935322010529224963732008058970)\n",
    "\n",
    "    return _quadrature_gk(a, b, f, norm_func, x, w, v)\n",
    "\n",
    "\n",
    "def _quadrature_gk21(a, b, f, norm_func):\n",
    "    \"\"\"\n",
    "    Gauss-Kronrod 21 quadrature with error estimate\n",
    "    \"\"\"\n",
    "    # Gauss-Kronrod points\n",
    "    x = (0.995657163025808080735527280689003,\n",
    "         0.973906528517171720077964012084452,\n",
    "         0.930157491355708226001207180059508,\n",
    "         0.865063366688984510732096688423493,\n",
    "         0.780817726586416897063717578345042,\n",
    "         0.679409568299024406234327365114874,\n",
    "         0.562757134668604683339000099272694,\n",
    "         0.433395394129247190799265943165784,\n",
    "         0.294392862701460198131126603103866,\n",
    "         0.148874338981631210884826001129720,\n",
    "         0,\n",
    "         -0.148874338981631210884826001129720,\n",
    "         -0.294392862701460198131126603103866,\n",
    "         -0.433395394129247190799265943165784,\n",
    "         -0.562757134668604683339000099272694,\n",
    "         -0.679409568299024406234327365114874,\n",
    "         -0.780817726586416897063717578345042,\n",
    "         -0.865063366688984510732096688423493,\n",
    "         -0.930157491355708226001207180059508,\n",
    "         -0.973906528517171720077964012084452,\n",
    "         -0.995657163025808080735527280689003)\n",
    "\n",
    "    # 10-point weights\n",
    "    w = (0.066671344308688137593568809893332,\n",
    "         0.149451349150580593145776339657697,\n",
    "         0.219086362515982043995534934228163,\n",
    "         0.269266719309996355091226921569469,\n",
    "         0.295524224714752870173892994651338,\n",
    "         0.295524224714752870173892994651338,\n",
    "         0.269266719309996355091226921569469,\n",
    "         0.219086362515982043995534934228163,\n",
    "         0.149451349150580593145776339657697,\n",
    "         0.066671344308688137593568809893332)\n",
    "\n",
    "    # 21-point weights\n",
    "    v = (0.011694638867371874278064396062192,\n",
    "         0.032558162307964727478818972459390,\n",
    "         0.054755896574351996031381300244580,\n",
    "         0.075039674810919952767043140916190,\n",
    "         0.093125454583697605535065465083366,\n",
    "         0.109387158802297641899210590325805,\n",
    "         0.123491976262065851077958109831074,\n",
    "         0.134709217311473325928054001771707,\n",
    "         0.142775938577060080797094273138717,\n",
    "         0.147739104901338491374841515972068,\n",
    "         0.149445554002916905664936468389821,\n",
    "         0.147739104901338491374841515972068,\n",
    "         0.142775938577060080797094273138717,\n",
    "         0.134709217311473325928054001771707,\n",
    "         0.123491976262065851077958109831074,\n",
    "         0.109387158802297641899210590325805,\n",
    "         0.093125454583697605535065465083366,\n",
    "         0.075039674810919952767043140916190,\n",
    "         0.054755896574351996031381300244580,\n",
    "         0.032558162307964727478818972459390,\n",
    "         0.011694638867371874278064396062192)\n",
    "\n",
    "    return _quadrature_gk(a, b, f, norm_func, x, w, v)\n",
    "\n",
    "\n",
    "def _gauss_kron(f,a,b,tol=1e-6):\n",
    "    integral,err,rnd=_quadrature_gk15(a,b,f,np.linalg.norm)  \n",
    "    if abs(err)<tol:\n",
    "        q= integral\n",
    "    else:\n",
    "        c=(a+b)/2\n",
    "        qa= _gauss_kron(f,a,c,tol)\n",
    "        qb=_gauss_kron(f,c,b,tol)   \n",
    "        q=qa+qb \n",
    "    return q\n",
    "\n",
    "def gauss_kron(f,a,b,tol=1e-6,args=()):\n",
    "    func= lambda x: f(x,*args)\n",
    "    if (a==0) and (b ==np.infty):\n",
    "        func2=SemiInfiniteFunc(func,0,np.infty)\n",
    "        b=1\n",
    "    return _gauss_kron(func2,a,b,tol)\n",
    "\n",
    "def quad_gauss(f,a,b,tol=1e-6,args=()):\n",
    "    if isinstance(args[-1],np.ndarray):\n",
    "        params=args[:-1]\n",
    "        return [gauss_kron(f,a,b,tol,args=(*params,i)) for i in args[-1]]\n",
    "    else:\n",
    "        return gauss_kron(f,a,b,tol,args=args)"
   ]
  },
  {
   "cell_type": "markdown",
   "metadata": {},
   "source": [
    "import functools"
   ]
  },
  {
   "cell_type": "code",
   "execution_count": null,
   "metadata": {},
   "outputs": [],
   "source": []
  },
  {
   "cell_type": "code",
   "execution_count": null,
   "metadata": {},
   "outputs": [],
   "source": [
    "from numbers import Number"
   ]
  },
  {
   "cell_type": "code",
   "execution_count": null,
   "metadata": {},
   "outputs": [],
   "source": [
    "A=spost(sm)"
   ]
  },
  {
   "cell_type": "code",
   "execution_count": null,
   "metadata": {},
   "outputs": [
    {
     "data": {
      "text/plain": [
       "SuperOperator: \n",
       " [[0. 0. 0. 0.]\n",
       " [0. 0. 0. 0.]\n",
       " [0. 0. 0. 0.]\n",
       " [0. 0. 0. 0.]]"
      ]
     },
     "execution_count": 56,
     "metadata": {},
     "output_type": "execute_result"
    }
   ],
   "source": [
    "A*A"
   ]
  },
  {
   "cell_type": "code",
   "execution_count": null,
   "metadata": {},
   "outputs": [],
   "source": []
  }
 ],
 "metadata": {
  "kernelspec": {
   "display_name": "qutip-dev",
   "language": "python",
   "name": "python3"
  },
  "language_info": {
   "codemirror_mode": {
    "name": "ipython",
    "version": 3
   },
   "file_extension": ".py",
   "mimetype": "text/x-python",
   "name": "python",
   "nbconvert_exporter": "python",
   "pygments_lexer": "ipython3",
   "version": "3.12.0"
  }
 },
 "nbformat": 4,
 "nbformat_minor": 2
}
