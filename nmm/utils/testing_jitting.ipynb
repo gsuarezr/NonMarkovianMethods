{
 "cells": [
  {
   "cell_type": "code",
   "execution_count": 1,
   "metadata": {},
   "outputs": [],
   "source": [
    "from nmm import Qobj,spost,spre,cumulant,OverdampedBath\n",
    "from numpy import random\n",
    "import jax.numpy as jnp"
   ]
  },
  {
   "cell_type": "code",
   "execution_count": 2,
   "metadata": {},
   "outputs": [],
   "source": [
    "A=random.rand(30,30)\n",
    "B=random.rand(30,30)\n",
    "C=random.rand(30,30)"
   ]
  },
  {
   "cell_type": "code",
   "execution_count": 3,
   "metadata": {},
   "outputs": [
    {
     "name": "stderr",
     "output_type": "stream",
     "text": [
      "An NVIDIA GPU may be present on this machine, but a CUDA-enabled jaxlib is not installed. Falling back to cpu.\n"
     ]
    }
   ],
   "source": [
    "A=Qobj(jnp.array(A))\n",
    "B=Qobj(jnp.array(B))\n",
    "C=Qobj(jnp.array(C))"
   ]
  },
  {
   "cell_type": "code",
   "execution_count": 4,
   "metadata": {},
   "outputs": [],
   "source": [
    "def test(A,B):\n",
    "    m=spre(A)*spost(B)-0.5*spre(A*B) -0.5*spost(A*B)\n",
    "    return m.expm()"
   ]
  },
  {
   "cell_type": "code",
   "execution_count": 5,
   "metadata": {},
   "outputs": [
    {
     "name": "stdout",
     "output_type": "stream",
     "text": [
      "161 ms ± 10.7 ms per loop (mean ± std. dev. of 7 runs, 1 loop each)\n"
     ]
    }
   ],
   "source": [
    "%timeit test(A,B)"
   ]
  },
  {
   "cell_type": "code",
   "execution_count": 6,
   "metadata": {},
   "outputs": [],
   "source": [
    "import jax"
   ]
  },
  {
   "cell_type": "code",
   "execution_count": 7,
   "metadata": {},
   "outputs": [],
   "source": [
    "f=jax.jit(test)"
   ]
  },
  {
   "cell_type": "code",
   "execution_count": 8,
   "metadata": {},
   "outputs": [
    {
     "name": "stdout",
     "output_type": "stream",
     "text": [
      "156 ms ± 8.04 ms per loop (mean ± std. dev. of 7 runs, 1 loop each)\n"
     ]
    }
   ],
   "source": [
    "%timeit f(A,B)"
   ]
  },
  {
   "cell_type": "code",
   "execution_count": 2,
   "metadata": {},
   "outputs": [
    {
     "name": "stderr",
     "output_type": "stream",
     "text": [
      "An NVIDIA GPU may be present on this machine, but a CUDA-enabled jaxlib is not installed. Falling back to cpu.\n"
     ]
    }
   ],
   "source": [
    "A=Qobj(jnp.array([[1,0],[0,-1]]))"
   ]
  },
  {
   "cell_type": "code",
   "execution_count": 3,
   "metadata": {},
   "outputs": [
    {
     "data": {
      "text/plain": [
       "(Array([-1.,  1.], dtype=float32),\n",
       " Array([[0., 1.],\n",
       "        [1., 0.]], dtype=float32))"
      ]
     },
     "execution_count": 3,
     "metadata": {},
     "output_type": "execute_result"
    }
   ],
   "source": [
    "A.eigenstates()"
   ]
  },
  {
   "cell_type": "code",
   "execution_count": 4,
   "metadata": {},
   "outputs": [],
   "source": [
    "evals, all_state = A.eigenstates()\n"
   ]
  },
  {
   "cell_type": "code",
   "execution_count": 26,
   "metadata": {},
   "outputs": [],
   "source": [
    "import jax.numpy as jnp\n",
    "from jax import jit\n",
    "\n",
    "@jit\n",
    "def jump_operators(Q, evals, evecs):\n",
    "    N = evecs.shape[1]\n",
    "\n",
    "    num_terms = N * (N - 1) // 2 * 2 + 1  # emission + absorption + dephasing\n",
    "    collapse_list = jnp.zeros((Q.shape[0], Q.shape[1], num_terms), dtype=Q.dtype)\n",
    "    ws = jnp.zeros(num_terms)\n",
    "\n",
    "    idx = 0\n",
    "    for j in range(N):\n",
    "        for k in range(j + 1, N):\n",
    "            Deltajk = evals[k] - evals[j]\n",
    "\n",
    "            state_j = evecs[:, j:j+1]  # as column\n",
    "            state_k = evecs[:, k:k+1]\n",
    "\n",
    "            # emission term\n",
    "            C1 = state_j * (state_j.dag() * Q * state_k) * state_k.dag()\n",
    "            ws = ws.at[idx].set(Deltajk)\n",
    "            collapse_list = collapse_list.at[:, :, idx].set(C1.data)\n",
    "            idx += 1\n",
    "\n",
    "            # absorption term\n",
    "            C2 = state_k * (state_k.dag()* Q * state_j) * state_j.dag()\n",
    "            ws = ws.at[idx].set(-Deltajk)\n",
    "            collapse_list = collapse_list.at[:, :, idx].set(C2.data)\n",
    "            idx += 1\n",
    "\n",
    "    # Dephasing term\n",
    "    Cdeph = Q - jnp.sum(collapse_list[:, :, :idx], axis=2)\n",
    "    ws = ws.at[idx].set(0.0)\n",
    "    collapse_list = collapse_list.at[:, :, idx].set(Cdeph)\n",
    "\n",
    "    # Now group by rounded frequencies\n",
    "    ws_rounded = jnp.round(ws, 12)\n",
    "\n",
    "    unique_ws = jnp.unique(ws_rounded)\n",
    "    dict_keys = unique_ws\n",
    "    dict_values = jnp.zeros((Q.shape[0], Q.shape[1], unique_ws.shape[0]), dtype=Q.dtype)\n",
    "\n",
    "    for u_idx in range(unique_ws.shape[0]):\n",
    "        mask = (ws_rounded == unique_ws[u_idx])\n",
    "        # sum collapse_list[:,:,mask] over axis=2\n",
    "        summed = jnp.sum(collapse_list[:, :, mask], axis=2)\n",
    "        dict_values = dict_values.at[:, :, u_idx].set(summed)\n",
    "\n",
    "    return dict_keys, dict_values\n"
   ]
  },
  {
   "cell_type": "code",
   "execution_count": 27,
   "metadata": {},
   "outputs": [
    {
     "data": {
      "text/plain": [
       "Array([[0., 1.],\n",
       "       [1., 0.]], dtype=float32)"
      ]
     },
     "execution_count": 27,
     "metadata": {},
     "output_type": "execute_result"
    }
   ],
   "source": [
    "all_state"
   ]
  },
  {
   "cell_type": "code",
   "execution_count": 28,
   "metadata": {},
   "outputs": [
    {
     "ename": "ValueError",
     "evalue": "Non-hashable static arguments are not supported, as this can lead to unexpected cache-misses. Static argument (index 0) of type <class 'nmm.utils.utils.Qobj'> for function __sub__ is non-hashable.",
     "output_type": "error",
     "traceback": [
      "\u001b[0;31m---------------------------------------------------------------------------\u001b[0m",
      "\u001b[0;31mValueError\u001b[0m                                Traceback (most recent call last)",
      "Cell \u001b[0;32mIn[28], line 1\u001b[0m\n\u001b[0;32m----> 1\u001b[0m \u001b[43mjump_operators\u001b[49m\u001b[43m(\u001b[49m\u001b[43mA\u001b[49m\u001b[43m,\u001b[49m\u001b[43mevals\u001b[49m\u001b[43m,\u001b[49m\u001b[43mQobj\u001b[49m\u001b[43m(\u001b[49m\u001b[43mall_state\u001b[49m\u001b[43m)\u001b[49m\u001b[43m)\u001b[49m\n",
      "    \u001b[0;31m[... skipping hidden 11 frame]\u001b[0m\n",
      "Cell \u001b[0;32mIn[26], line 33\u001b[0m, in \u001b[0;36mjump_operators\u001b[0;34m(Q, evals, evecs)\u001b[0m\n\u001b[1;32m     30\u001b[0m         idx \u001b[38;5;241m+\u001b[39m\u001b[38;5;241m=\u001b[39m \u001b[38;5;241m1\u001b[39m\n\u001b[1;32m     32\u001b[0m \u001b[38;5;66;03m# Dephasing term\u001b[39;00m\n\u001b[0;32m---> 33\u001b[0m Cdeph \u001b[38;5;241m=\u001b[39m \u001b[43mQ\u001b[49m\u001b[43m \u001b[49m\u001b[38;5;241;43m-\u001b[39;49m\u001b[43m \u001b[49m\u001b[43mjnp\u001b[49m\u001b[38;5;241;43m.\u001b[39;49m\u001b[43msum\u001b[49m\u001b[43m(\u001b[49m\u001b[43mcollapse_list\u001b[49m\u001b[43m[\u001b[49m\u001b[43m:\u001b[49m\u001b[43m,\u001b[49m\u001b[43m \u001b[49m\u001b[43m:\u001b[49m\u001b[43m,\u001b[49m\u001b[43m \u001b[49m\u001b[43m:\u001b[49m\u001b[43midx\u001b[49m\u001b[43m]\u001b[49m\u001b[43m,\u001b[49m\u001b[43m \u001b[49m\u001b[43maxis\u001b[49m\u001b[38;5;241;43m=\u001b[39;49m\u001b[38;5;241;43m2\u001b[39;49m\u001b[43m)\u001b[49m\n\u001b[1;32m     34\u001b[0m ws \u001b[38;5;241m=\u001b[39m ws\u001b[38;5;241m.\u001b[39mat[idx]\u001b[38;5;241m.\u001b[39mset(\u001b[38;5;241m0.0\u001b[39m)\n\u001b[1;32m     35\u001b[0m collapse_list \u001b[38;5;241m=\u001b[39m collapse_list\u001b[38;5;241m.\u001b[39mat[:, :, idx]\u001b[38;5;241m.\u001b[39mset(Cdeph)\n",
      "    \u001b[0;31m[... skipping hidden 4 frame]\u001b[0m\n",
      "File \u001b[0;32m~/anaconda3/envs/cumulant/lib/python3.12/site-packages/jax/_src/api_util.py:289\u001b[0m, in \u001b[0;36margnums_partial_except\u001b[0;34m(f, static_argnums, args, allow_invalid)\u001b[0m\n\u001b[1;32m    287\u001b[0m static_arg \u001b[38;5;241m=\u001b[39m args[i]\n\u001b[1;32m    288\u001b[0m \u001b[38;5;28;01mif\u001b[39;00m \u001b[38;5;129;01mnot\u001b[39;00m is_hashable(static_arg):\n\u001b[0;32m--> 289\u001b[0m   \u001b[38;5;28;01mraise\u001b[39;00m \u001b[38;5;167;01mValueError\u001b[39;00m(\n\u001b[1;32m    290\u001b[0m       \u001b[38;5;124m\"\u001b[39m\u001b[38;5;124mNon-hashable static arguments are not supported, as this can lead \u001b[39m\u001b[38;5;124m\"\u001b[39m\n\u001b[1;32m    291\u001b[0m       \u001b[38;5;124mf\u001b[39m\u001b[38;5;124m\"\u001b[39m\u001b[38;5;124mto unexpected cache-misses. Static argument (index \u001b[39m\u001b[38;5;132;01m{\u001b[39;00mi\u001b[38;5;132;01m}\u001b[39;00m\u001b[38;5;124m) of type \u001b[39m\u001b[38;5;124m\"\u001b[39m\n\u001b[1;32m    292\u001b[0m       \u001b[38;5;124mf\u001b[39m\u001b[38;5;124m\"\u001b[39m\u001b[38;5;132;01m{\u001b[39;00m\u001b[38;5;28mtype\u001b[39m(static_arg)\u001b[38;5;132;01m}\u001b[39;00m\u001b[38;5;124m for function \u001b[39m\u001b[38;5;132;01m{\u001b[39;00mf\u001b[38;5;241m.\u001b[39m\u001b[38;5;18m__name__\u001b[39m\u001b[38;5;132;01m}\u001b[39;00m\u001b[38;5;124m is non-hashable.\u001b[39m\u001b[38;5;124m\"\u001b[39m)\n\u001b[1;32m    293\u001b[0m \u001b[38;5;28;01melse\u001b[39;00m:\n\u001b[1;32m    294\u001b[0m   fixed_args\u001b[38;5;241m.\u001b[39mappend(_HashableWithStrictTypeEquality(static_arg))  \u001b[38;5;66;03m# type: ignore\u001b[39;00m\n",
      "\u001b[0;31mValueError\u001b[0m: Non-hashable static arguments are not supported, as this can lead to unexpected cache-misses. Static argument (index 0) of type <class 'nmm.utils.utils.Qobj'> for function __sub__ is non-hashable."
     ]
    }
   ],
   "source": [
    "jump_operators(A,evals,Qobj(all_state))"
   ]
  },
  {
   "cell_type": "code",
   "execution_count": 12,
   "metadata": {},
   "outputs": [],
   "source": [
    "d=test(A,B)"
   ]
  },
  {
   "cell_type": "code",
   "execution_count": null,
   "metadata": {},
   "outputs": [],
   "source": []
  }
 ],
 "metadata": {
  "kernelspec": {
   "display_name": "cumulant",
   "language": "python",
   "name": "python3"
  },
  "language_info": {
   "codemirror_mode": {
    "name": "ipython",
    "version": 3
   },
   "file_extension": ".py",
   "mimetype": "text/x-python",
   "name": "python",
   "nbconvert_exporter": "python",
   "pygments_lexer": "ipython3",
   "version": "3.12.0"
  }
 },
 "nbformat": 4,
 "nbformat_minor": 2
}
