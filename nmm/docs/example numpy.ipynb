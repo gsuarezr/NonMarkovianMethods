{
 "cells": [
  {
   "cell_type": "code",
   "execution_count": 1,
   "metadata": {},
   "outputs": [],
   "source": [
    "from nmm import csolve,OhmicBath,OverdampedBath\n",
    "import numpy as np"
   ]
  },
  {
   "cell_type": "code",
   "execution_count": 2,
   "metadata": {},
   "outputs": [],
   "source": [
    "w0 = 1\n",
    "Deltaw = 1e-2*w0\n",
    "alpha = 0.05\n",
    "gamma = 5*w0\n",
    "T = 1*w0\n",
    "tf = 4\n",
    "t=np.linspace(0,tf,100)\n",
    "Hsys = np.array([[1,0],[0,-1]])/2\n",
    "Q = np.array([[0,1],[1,0]])"
   ]
  },
  {
   "cell_type": "code",
   "execution_count": 3,
   "metadata": {},
   "outputs": [],
   "source": [
    "bath=OhmicBath(T,alpha,gamma)\n",
    "bath2 = OverdampedBath(T,alpha,gamma)"
   ]
  },
  {
   "cell_type": "code",
   "execution_count": 4,
   "metadata": {},
   "outputs": [],
   "source": [
    "cc = csolve(Hsys,t ,[bath], [Q])\n",
    "cc2 = csolve(Hsys, t ,[bath2], [Q],eps=1e-6)"
   ]
  },
  {
   "cell_type": "code",
   "execution_count": 5,
   "metadata": {},
   "outputs": [],
   "source": [
    "rho0=0.5*np.array([[1,1],[1,1]])"
   ]
  },
  {
   "cell_type": "code",
   "execution_count": 6,
   "metadata": {},
   "outputs": [
    {
     "name": "stdout",
     "output_type": "stream",
     "text": [
      "1\n"
     ]
    },
    {
     "name": "stderr",
     "output_type": "stream",
     "text": [
      "Calculating Integrals ...:   0%|          | 0/1 [00:00<?, ?it/s]"
     ]
    },
    {
     "name": "stderr",
     "output_type": "stream",
     "text": [
      "Calculating Integrals ...: 100%|██████████| 1/1 [00:00<00:00,  3.09it/s]\n",
      "Calculating the generator ...: 100%|██████████| 1/1 [00:00<00:00, 59.10it/s]\n",
      "Computing Exponential of Generators . . . .: 100%|██████████| 100/100 [00:00<00:00, 1851.16it/s]\n"
     ]
    }
   ],
   "source": [
    "result=cc.evolution(rho0)"
   ]
  },
  {
   "cell_type": "code",
   "execution_count": 7,
   "metadata": {},
   "outputs": [
    {
     "name": "stdout",
     "output_type": "stream",
     "text": [
      "1\n"
     ]
    },
    {
     "name": "stderr",
     "output_type": "stream",
     "text": [
      "Calculating Integrals ...: 100%|██████████| 1/1 [00:13<00:00, 13.71s/it]\n",
      "Calculating the generator ...: 100%|██████████| 1/1 [00:00<00:00, 565.42it/s]\n",
      "Computing Exponential of Generators . . . .: 100%|██████████| 100/100 [00:00<00:00, 8598.06it/s]\n"
     ]
    }
   ],
   "source": [
    "result2 = cc2.evolution(rho0)"
   ]
  },
  {
   "cell_type": "code",
   "execution_count": 16,
   "metadata": {},
   "outputs": [
    {
     "data": {
      "text/plain": [
       "[array([[0.5+0.j, 0.5+0.j],\n",
       "        [0.5+0.j, 0.5+0.j]]),\n",
       " array([[0.5+0.j, 0.5+0.j],\n",
       "        [0.5+0.j, 0.5+0.j]]),\n",
       " array([[0.5+0.j, 0.5+0.j],\n",
       "        [0.5+0.j, 0.5+0.j]]),\n",
       " array([[0.5+0.j, 0.5+0.j],\n",
       "        [0.5+0.j, 0.5+0.j]]),\n",
       " array([[0.5+0.j, 0.5+0.j],\n",
       "        [0.5+0.j, 0.5+0.j]]),\n",
       " array([[0.5+0.j, 0.5+0.j],\n",
       "        [0.5+0.j, 0.5+0.j]]),\n",
       " array([[0.5+0.j, 0.5+0.j],\n",
       "        [0.5+0.j, 0.5+0.j]]),\n",
       " array([[0.5+0.j, 0.5+0.j],\n",
       "        [0.5+0.j, 0.5+0.j]]),\n",
       " array([[0.5+0.j, 0.5+0.j],\n",
       "        [0.5+0.j, 0.5+0.j]]),\n",
       " array([[0.5+0.j, 0.5+0.j],\n",
       "        [0.5+0.j, 0.5+0.j]]),\n",
       " array([[0.5+0.j, 0.5+0.j],\n",
       "        [0.5+0.j, 0.5+0.j]]),\n",
       " array([[0.5+0.j, 0.5+0.j],\n",
       "        [0.5+0.j, 0.5+0.j]]),\n",
       " array([[0.5+0.j, 0.5+0.j],\n",
       "        [0.5+0.j, 0.5+0.j]]),\n",
       " array([[0.5+0.j, 0.5+0.j],\n",
       "        [0.5+0.j, 0.5+0.j]]),\n",
       " array([[0.5+0.j, 0.5+0.j],\n",
       "        [0.5+0.j, 0.5+0.j]]),\n",
       " array([[0.5+0.j, 0.5+0.j],\n",
       "        [0.5+0.j, 0.5+0.j]]),\n",
       " array([[0.5+0.j, 0.5+0.j],\n",
       "        [0.5+0.j, 0.5+0.j]]),\n",
       " array([[0.5+0.j, 0.5+0.j],\n",
       "        [0.5+0.j, 0.5+0.j]]),\n",
       " array([[0.5+0.j, 0.5+0.j],\n",
       "        [0.5+0.j, 0.5+0.j]]),\n",
       " array([[0.5+0.j, 0.5+0.j],\n",
       "        [0.5+0.j, 0.5+0.j]]),\n",
       " array([[0.5+0.j, 0.5+0.j],\n",
       "        [0.5+0.j, 0.5+0.j]]),\n",
       " array([[0.5+0.j, 0.5+0.j],\n",
       "        [0.5+0.j, 0.5+0.j]]),\n",
       " array([[0.5+0.j, 0.5+0.j],\n",
       "        [0.5+0.j, 0.5+0.j]]),\n",
       " array([[0.5+0.j, 0.5+0.j],\n",
       "        [0.5+0.j, 0.5+0.j]]),\n",
       " array([[0.5+0.j, 0.5+0.j],\n",
       "        [0.5+0.j, 0.5+0.j]]),\n",
       " array([[0.5+0.j, 0.5+0.j],\n",
       "        [0.5+0.j, 0.5+0.j]]),\n",
       " array([[0.5+0.j, 0.5+0.j],\n",
       "        [0.5+0.j, 0.5+0.j]]),\n",
       " array([[0.5+0.j, 0.5+0.j],\n",
       "        [0.5+0.j, 0.5+0.j]]),\n",
       " array([[0.5+0.j, 0.5+0.j],\n",
       "        [0.5+0.j, 0.5+0.j]]),\n",
       " array([[0.5+0.j, 0.5+0.j],\n",
       "        [0.5+0.j, 0.5+0.j]]),\n",
       " array([[0.5+0.j, 0.5+0.j],\n",
       "        [0.5+0.j, 0.5+0.j]]),\n",
       " array([[0.5+0.j, 0.5+0.j],\n",
       "        [0.5+0.j, 0.5+0.j]]),\n",
       " array([[0.5+0.j, 0.5+0.j],\n",
       "        [0.5+0.j, 0.5+0.j]]),\n",
       " array([[0.5+0.j, 0.5+0.j],\n",
       "        [0.5+0.j, 0.5+0.j]]),\n",
       " array([[0.5+0.j, 0.5+0.j],\n",
       "        [0.5+0.j, 0.5+0.j]]),\n",
       " array([[0.5+0.j, 0.5+0.j],\n",
       "        [0.5+0.j, 0.5+0.j]]),\n",
       " array([[0.5+0.j, 0.5+0.j],\n",
       "        [0.5+0.j, 0.5+0.j]]),\n",
       " array([[0.5+0.j, 0.5+0.j],\n",
       "        [0.5+0.j, 0.5+0.j]]),\n",
       " array([[0.5+0.j, 0.5+0.j],\n",
       "        [0.5+0.j, 0.5+0.j]]),\n",
       " array([[0.5+0.j, 0.5+0.j],\n",
       "        [0.5+0.j, 0.5+0.j]]),\n",
       " array([[0.5+0.j, 0.5+0.j],\n",
       "        [0.5+0.j, 0.5+0.j]]),\n",
       " array([[0.5+0.j, 0.5+0.j],\n",
       "        [0.5+0.j, 0.5+0.j]]),\n",
       " array([[0.5+0.j, 0.5+0.j],\n",
       "        [0.5+0.j, 0.5+0.j]]),\n",
       " array([[0.5+0.j, 0.5+0.j],\n",
       "        [0.5+0.j, 0.5+0.j]]),\n",
       " array([[0.5+0.j, 0.5+0.j],\n",
       "        [0.5+0.j, 0.5+0.j]]),\n",
       " array([[0.5+0.j, 0.5+0.j],\n",
       "        [0.5+0.j, 0.5+0.j]]),\n",
       " array([[0.5+0.j, 0.5+0.j],\n",
       "        [0.5+0.j, 0.5+0.j]]),\n",
       " array([[0.5+0.j, 0.5+0.j],\n",
       "        [0.5+0.j, 0.5+0.j]]),\n",
       " array([[0.5+0.j, 0.5+0.j],\n",
       "        [0.5+0.j, 0.5+0.j]]),\n",
       " array([[0.5+0.j, 0.5+0.j],\n",
       "        [0.5+0.j, 0.5+0.j]]),\n",
       " array([[0.5+0.j, 0.5+0.j],\n",
       "        [0.5+0.j, 0.5+0.j]]),\n",
       " array([[0.5+0.j, 0.5+0.j],\n",
       "        [0.5+0.j, 0.5+0.j]]),\n",
       " array([[0.5+0.j, 0.5+0.j],\n",
       "        [0.5+0.j, 0.5+0.j]]),\n",
       " array([[0.5+0.j, 0.5+0.j],\n",
       "        [0.5+0.j, 0.5+0.j]]),\n",
       " array([[0.5+0.j, 0.5+0.j],\n",
       "        [0.5+0.j, 0.5+0.j]]),\n",
       " array([[0.5+0.j, 0.5+0.j],\n",
       "        [0.5+0.j, 0.5+0.j]]),\n",
       " array([[0.5+0.j, 0.5+0.j],\n",
       "        [0.5+0.j, 0.5+0.j]]),\n",
       " array([[0.5+0.j, 0.5+0.j],\n",
       "        [0.5+0.j, 0.5+0.j]]),\n",
       " array([[0.5+0.j, 0.5+0.j],\n",
       "        [0.5+0.j, 0.5+0.j]]),\n",
       " array([[0.5+0.j, 0.5+0.j],\n",
       "        [0.5+0.j, 0.5+0.j]]),\n",
       " array([[0.5+0.j, 0.5+0.j],\n",
       "        [0.5+0.j, 0.5+0.j]]),\n",
       " array([[0.5+0.j, 0.5+0.j],\n",
       "        [0.5+0.j, 0.5+0.j]]),\n",
       " array([[0.5+0.j, 0.5+0.j],\n",
       "        [0.5+0.j, 0.5+0.j]]),\n",
       " array([[0.5+0.j, 0.5+0.j],\n",
       "        [0.5+0.j, 0.5+0.j]]),\n",
       " array([[0.5+0.j, 0.5+0.j],\n",
       "        [0.5+0.j, 0.5+0.j]]),\n",
       " array([[0.5+0.j, 0.5+0.j],\n",
       "        [0.5+0.j, 0.5+0.j]]),\n",
       " array([[0.5+0.j, 0.5+0.j],\n",
       "        [0.5+0.j, 0.5+0.j]]),\n",
       " array([[0.5+0.j, 0.5+0.j],\n",
       "        [0.5+0.j, 0.5+0.j]]),\n",
       " array([[0.5+0.j, 0.5+0.j],\n",
       "        [0.5+0.j, 0.5+0.j]]),\n",
       " array([[0.5+0.j, 0.5+0.j],\n",
       "        [0.5+0.j, 0.5+0.j]]),\n",
       " array([[0.5+0.j, 0.5+0.j],\n",
       "        [0.5+0.j, 0.5+0.j]]),\n",
       " array([[0.5+0.j, 0.5+0.j],\n",
       "        [0.5+0.j, 0.5+0.j]]),\n",
       " array([[0.5+0.j, 0.5+0.j],\n",
       "        [0.5+0.j, 0.5+0.j]]),\n",
       " array([[0.5+0.j, 0.5+0.j],\n",
       "        [0.5+0.j, 0.5+0.j]]),\n",
       " array([[0.5+0.j, 0.5+0.j],\n",
       "        [0.5+0.j, 0.5+0.j]]),\n",
       " array([[0.5+0.j, 0.5+0.j],\n",
       "        [0.5+0.j, 0.5+0.j]]),\n",
       " array([[0.5+0.j, 0.5+0.j],\n",
       "        [0.5+0.j, 0.5+0.j]]),\n",
       " array([[0.5+0.j, 0.5+0.j],\n",
       "        [0.5+0.j, 0.5+0.j]]),\n",
       " array([[0.5+0.j, 0.5+0.j],\n",
       "        [0.5+0.j, 0.5+0.j]]),\n",
       " array([[0.5+0.j, 0.5+0.j],\n",
       "        [0.5+0.j, 0.5+0.j]]),\n",
       " array([[0.5+0.j, 0.5+0.j],\n",
       "        [0.5+0.j, 0.5+0.j]]),\n",
       " array([[0.5+0.j, 0.5+0.j],\n",
       "        [0.5+0.j, 0.5+0.j]]),\n",
       " array([[0.5+0.j, 0.5+0.j],\n",
       "        [0.5+0.j, 0.5+0.j]]),\n",
       " array([[0.5+0.j, 0.5+0.j],\n",
       "        [0.5+0.j, 0.5+0.j]]),\n",
       " array([[0.5+0.j, 0.5+0.j],\n",
       "        [0.5+0.j, 0.5+0.j]]),\n",
       " array([[0.5+0.j, 0.5+0.j],\n",
       "        [0.5+0.j, 0.5+0.j]]),\n",
       " array([[0.5+0.j, 0.5+0.j],\n",
       "        [0.5+0.j, 0.5+0.j]]),\n",
       " array([[0.5+0.j, 0.5+0.j],\n",
       "        [0.5+0.j, 0.5+0.j]]),\n",
       " array([[0.5+0.j, 0.5+0.j],\n",
       "        [0.5+0.j, 0.5+0.j]]),\n",
       " array([[0.5+0.j, 0.5+0.j],\n",
       "        [0.5+0.j, 0.5+0.j]]),\n",
       " array([[0.5+0.j, 0.5+0.j],\n",
       "        [0.5+0.j, 0.5+0.j]]),\n",
       " array([[0.5+0.j, 0.5+0.j],\n",
       "        [0.5+0.j, 0.5+0.j]]),\n",
       " array([[0.5+0.j, 0.5+0.j],\n",
       "        [0.5+0.j, 0.5+0.j]]),\n",
       " array([[0.5+0.j, 0.5+0.j],\n",
       "        [0.5+0.j, 0.5+0.j]]),\n",
       " array([[0.5+0.j, 0.5+0.j],\n",
       "        [0.5+0.j, 0.5+0.j]]),\n",
       " array([[0.5+0.j, 0.5+0.j],\n",
       "        [0.5+0.j, 0.5+0.j]]),\n",
       " array([[0.5+0.j, 0.5+0.j],\n",
       "        [0.5+0.j, 0.5+0.j]]),\n",
       " array([[0.5+0.j, 0.5+0.j],\n",
       "        [0.5+0.j, 0.5+0.j]]),\n",
       " array([[0.5+0.j, 0.5+0.j],\n",
       "        [0.5+0.j, 0.5+0.j]]),\n",
       " array([[0.5+0.j, 0.5+0.j],\n",
       "        [0.5+0.j, 0.5+0.j]])]"
      ]
     },
     "execution_count": 16,
     "metadata": {},
     "output_type": "execute_result"
    }
   ],
   "source": [
    "result"
   ]
  },
  {
   "cell_type": "code",
   "execution_count": 10,
   "metadata": {},
   "outputs": [],
   "source": [
    "import matplotlib.pyplot as plt"
   ]
  },
  {
   "cell_type": "code",
   "execution_count": 11,
   "metadata": {},
   "outputs": [],
   "source": [
    "def population(den, a, b):\n",
    "    return [den[i][a, b] for i in range(len(den))]"
   ]
  },
  {
   "cell_type": "code",
   "execution_count": 12,
   "metadata": {},
   "outputs": [],
   "source": [
    "# bath = DrudeLorentzPadeBath(Q=Q, lam=alpha*np.pi, gamma=gamma, T=T, Nk=8)\n",
    "# solver = HEOMSolver(Hsys, bath, max_depth=5)\n",
    "# result_h = solver.run(rho0, t)"
   ]
  },
  {
   "cell_type": "code",
   "execution_count": 15,
   "metadata": {},
   "outputs": [
    {
     "data": {
      "text/plain": [
       "[<matplotlib.lines.Line2D at 0x7f0eea711fd0>]"
      ]
     },
     "execution_count": 15,
     "metadata": {},
     "output_type": "execute_result"
    },
    {
     "data": {
      "image/png": "[encoded data removed]",
      "text/plain": [
       "<Figure size 640x480 with 1 Axes>"
      ]
     },
     "metadata": {},
     "output_type": "display_data"
    }
   ],
   "source": [
    "plt.plot(t,np.abs(population(result,0,0)))\n",
    "plt.plot(t, np.abs(population(result2, 0, 0)))\n",
    "# plt.plot(t, np.abs(population(result_h.states, 0, 1)))\n",
    "# plt.show()"
   ]
  },
  {
   "cell_type": "code",
   "execution_count": 14,
   "metadata": {},
   "outputs": [
    {
     "data": {
      "text/plain": [
       "[<matplotlib.lines.Line2D at 0x7f0eea6c05f0>]"
      ]
     },
     "execution_count": 14,
     "metadata": {},
     "output_type": "execute_result"
    },
    {
     "data": {
      "image/png": "[encoded data removed]",
      "text/plain": [
       "<Figure size 640x480 with 1 Axes>"
      ]
     },
     "metadata": {},
     "output_type": "display_data"
    }
   ],
   "source": [
    "w=np.linspace(0,100,1000)\n",
    "plt.plot(w,bath.spectral_density(w))\n",
    "plt.plot(w,bath2.spectral_density(w))"
   ]
  },
  {
   "cell_type": "code",
   "execution_count": null,
   "metadata": {},
   "outputs": [],
   "source": []
  }
 ],
 "metadata": {
  "kernelspec": {
   "display_name": "cumulant",
   "language": "python",
   "name": "python3"
  },
  "language_info": {
   "codemirror_mode": {
    "name": "ipython",
    "version": 3
   },
   "file_extension": ".py",
   "mimetype": "text/x-python",
   "name": "python",
   "nbconvert_exporter": "python",
   "pygments_lexer": "ipython3",
   "version": "3.12.0"
  }
 },
 "nbformat": 4,
 "nbformat_minor": 2
}
